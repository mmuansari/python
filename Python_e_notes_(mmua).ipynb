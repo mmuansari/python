{
  "nbformat": 4,
  "nbformat_minor": 0,
  "metadata": {
    "colab": {
      "provenance": [],
      "authorship_tag": "ABX9TyOhZTQ2ZiigKLnyIJXOcKZu",
      "include_colab_link": true
    },
    "kernelspec": {
      "name": "python3",
      "display_name": "Python 3"
    },
    "language_info": {
      "name": "python"
    }
  },
  "cells": [
    {
      "cell_type": "markdown",
      "metadata": {
        "id": "view-in-github",
        "colab_type": "text"
      },
      "source": [
        "<a href=\"https://colab.research.google.com/github/mmuansari/python/blob/main/Python_e_notes_(mmua).ipynb\" target=\"_parent\"><img src=\"https://colab.research.google.com/assets/colab-badge.svg\" alt=\"Open In Colab\"/></a>"
      ]
    },
    {
      "cell_type": "code",
      "execution_count": null,
      "metadata": {
        "id": "hOFtvsxCBicL"
      },
      "outputs": [],
      "source": [
        "#why we require comminting?\n",
        "# We require comminting for the better understandong"
      ]
    },
    {
      "cell_type": "code",
      "source": [
        "#what is an IDE?\n",
        "#Ans ; - code executer, compiler, write our code and display our code.\n",
        "#3 imp IDE's (Google colab notebook(internet), Jupyter notebook(offline),Pycharm(offline))"
      ],
      "metadata": {
        "id": "51YKXn6sPpep"
      },
      "execution_count": null,
      "outputs": []
    },
    {
      "cell_type": "code",
      "source": [
        "#Numerical data types\n",
        "#There are 3 types of data types\n",
        "#1. integer :- It's a whole number without decimal point\n",
        "#Print():- To display our output\n",
        "print(10)\n",
        "#How can you find the datatype?\n",
        "#Type():- used for to know the datatype\n",
        "print(type(10))"
      ],
      "metadata": {
        "colab": {
          "base_uri": "https://localhost:8080/"
        },
        "id": "eNYf7h_IC0YB",
        "outputId": "bccce419-af77-45c1-da79-fe1f968920be"
      },
      "execution_count": null,
      "outputs": [
        {
          "output_type": "stream",
          "name": "stdout",
          "text": [
            "10\n",
            "<class 'int'>\n"
          ]
        }
      ]
    },
    {
      "cell_type": "code",
      "source": [
        "#2.Float:- A whole number either -ve or +ve with decimal point.\n",
        "print(type(2.35))"
      ],
      "metadata": {
        "colab": {
          "base_uri": "https://localhost:8080/"
        },
        "id": "-YSV7gyrDukF",
        "outputId": "d6b0cea4-858e-44b5-f9bd-e24efbb2b4f7"
      },
      "execution_count": null,
      "outputs": [
        {
          "output_type": "stream",
          "name": "stdout",
          "text": [
            "<class 'float'>\n"
          ]
        }
      ]
    },
    {
      "cell_type": "code",
      "source": [
        "print(type(1.0))\n",
        "print(type(1.23))\n",
        "print(type(-44.44))"
      ],
      "metadata": {
        "colab": {
          "base_uri": "https://localhost:8080/"
        },
        "id": "7IEvg_hiEAWH",
        "outputId": "c61f2119-ebbe-4989-c7df-0668abc457a6"
      },
      "execution_count": null,
      "outputs": [
        {
          "output_type": "stream",
          "name": "stdout",
          "text": [
            "<class 'float'>\n",
            "<class 'float'>\n",
            "<class 'float'>\n"
          ]
        }
      ]
    },
    {
      "cell_type": "code",
      "source": [
        "#3.complex numbers:- A real number with its real + imaginary part.\n",
        "#Here 'i' is represented as 'j'\n",
        "#'j' is known as iota\n",
        "#And the value of 'j' is 'root(-1)'\n",
        "print(type(2+4j))"
      ],
      "metadata": {
        "colab": {
          "base_uri": "https://localhost:8080/"
        },
        "id": "2f43x-RGEDa0",
        "outputId": "e9dc4257-5d94-4fa5-f4d8-4db15974fad6"
      },
      "execution_count": null,
      "outputs": [
        {
          "output_type": "stream",
          "name": "stdout",
          "text": [
            "<class 'complex'>\n"
          ]
        }
      ]
    },
    {
      "cell_type": "markdown",
      "source": [
        "#Arithmetic operators"
      ],
      "metadata": {
        "id": "gp6a4dMOQd80"
      }
    },
    {
      "cell_type": "code",
      "source": [
        "4#What are all arthamatic operators?\n",
        "#Addition:- Adding of two integers '+'\n",
        "print(10 + 5)\n",
        "print(type(10 + 5))\n",
        "#Substraction :- '-'\n",
        "print(10 - 5)\n",
        "print(type(10 - 5))\n",
        "#Multiolication :- '*'\n",
        "print(10 * 5)\n",
        "print(type(10 * 5))\n",
        "#Division :- '/'\n",
        "print(10 / 5)\n",
        "print(type(10 / 5))"
      ],
      "metadata": {
        "colab": {
          "base_uri": "https://localhost:8080/"
        },
        "id": "pDQC7WqmF5F0",
        "outputId": "350b71c0-24da-4779-dd05-3ba26647b0d4"
      },
      "execution_count": null,
      "outputs": [
        {
          "output_type": "stream",
          "name": "stdout",
          "text": [
            "15\n",
            "<class 'int'>\n",
            "5\n",
            "<class 'int'>\n",
            "50\n",
            "<class 'int'>\n",
            "2.0\n",
            "<class 'float'>\n"
          ]
        }
      ]
    },
    {
      "cell_type": "code",
      "source": [
        "print(type(2 / 2))\n",
        "print(type(3 / 1))\n",
        "print((2 / 2))\n",
        "print(type(2 // 2))\n",
        "print(2 // 2)"
      ],
      "metadata": {
        "colab": {
          "base_uri": "https://localhost:8080/"
        },
        "id": "TqsA1sIqlWLI",
        "outputId": "9923360c-2dce-46b5-f25c-c81dc5614e89"
      },
      "execution_count": null,
      "outputs": [
        {
          "output_type": "stream",
          "name": "stdout",
          "text": [
            "<class 'float'>\n",
            "<class 'float'>\n",
            "1.0\n",
            "<class 'int'>\n",
            "1\n"
          ]
        }
      ]
    },
    {
      "cell_type": "code",
      "source": [
        "#Exponential :- To the power off---> '**'\n",
        "print(2 ** 3)\n",
        "print(type(2 ** 3))"
      ],
      "metadata": {
        "colab": {
          "base_uri": "https://localhost:8080/"
        },
        "id": "3GR4wD4MGS7G",
        "outputId": "23417b01-62bf-4aae-85d5-07de263ac56a"
      },
      "execution_count": null,
      "outputs": [
        {
          "output_type": "stream",
          "name": "stdout",
          "text": [
            "8\n",
            "<class 'int'>\n"
          ]
        }
      ]
    },
    {
      "cell_type": "code",
      "source": [
        "print(5 ** 2)"
      ],
      "metadata": {
        "colab": {
          "base_uri": "https://localhost:8080/"
        },
        "id": "pRvuHcsqobX2",
        "outputId": "d3a531a5-11b1-4507-e759-6a7c51fcd09e"
      },
      "execution_count": null,
      "outputs": [
        {
          "output_type": "stream",
          "name": "stdout",
          "text": [
            "25\n"
          ]
        }
      ]
    },
    {
      "cell_type": "code",
      "source": [
        "#Floor division:- It will ignores the values after decimal points\n",
        "#It can be deenoted with '//'\n",
        "print(10 / 3)\n",
        "print(10 // 3)"
      ],
      "metadata": {
        "colab": {
          "base_uri": "https://localhost:8080/"
        },
        "id": "brT2OdQbH7KJ",
        "outputId": "b37a8e94-19d9-4718-b972-be49a7efd197"
      },
      "execution_count": null,
      "outputs": [
        {
          "output_type": "stream",
          "name": "stdout",
          "text": [
            "3.3333333333333335\n",
            "3\n"
          ]
        }
      ]
    },
    {
      "cell_type": "code",
      "source": [
        "#What is floor value?\n",
        "#And : It is a vlaue before decimal point"
      ],
      "metadata": {
        "id": "aX_yXsv6IGIH"
      },
      "execution_count": null,
      "outputs": []
    },
    {
      "cell_type": "code",
      "source": [
        "#Modulus :- '%' , It's an reminder\n",
        "print(10 % 2)\n",
        "print(type(10 % 2))\n"
      ],
      "metadata": {
        "colab": {
          "base_uri": "https://localhost:8080/"
        },
        "id": "JCA-IadZJniU",
        "outputId": "07de9851-fed3-4348-c208-f6956247df4a"
      },
      "execution_count": null,
      "outputs": [
        {
          "output_type": "stream",
          "name": "stdout",
          "text": [
            "0\n",
            "<class 'int'>\n"
          ]
        }
      ]
    },
    {
      "cell_type": "code",
      "source": [
        "#Find the given number is even or odd?\n",
        "print(5 % 2)  #If you get output as 1 its an odd number\n",
        "print(6 % 2)  #0 is also an even number,If you get output as 0 its an even number"
      ],
      "metadata": {
        "colab": {
          "base_uri": "https://localhost:8080/"
        },
        "id": "xvzdL85YKQYY",
        "outputId": "8d9cb700-32c3-43c9-f825-0dd196b42a77"
      },
      "execution_count": null,
      "outputs": [
        {
          "output_type": "stream",
          "name": "stdout",
          "text": [
            "1\n",
            "0\n"
          ]
        }
      ]
    },
    {
      "cell_type": "code",
      "source": [
        "print(10 % 5)\n",
        "print(999 % 2)\n",
        "print(111 % 8)"
      ],
      "metadata": {
        "colab": {
          "base_uri": "https://localhost:8080/"
        },
        "id": "n0wR7Qw0jQHC",
        "outputId": "5c81ad2a-2c4c-450b-8833-d57f3ed52ff3"
      },
      "execution_count": null,
      "outputs": [
        {
          "output_type": "stream",
          "name": "stdout",
          "text": [
            "0\n",
            "1\n",
            "7\n"
          ]
        }
      ]
    },
    {
      "cell_type": "markdown",
      "source": [
        "#Types of erros"
      ],
      "metadata": {
        "id": "2TFf0h4gM0hR"
      }
    },
    {
      "cell_type": "code",
      "source": [
        "#There are only 2 types of errors\n",
        "#1.Syntax errors :- If you break the rules of programming language then you will get syntax errors.\n",
        "#How can this rules be broke?\n",
        "#Examples :\n",
        "print(10 * * 3)\n"
      ],
      "metadata": {
        "colab": {
          "base_uri": "https://localhost:8080/",
          "height": 109
        },
        "id": "XYUyWj6zM443",
        "outputId": "14718018-c033-4c3c-a304-aed3872ba368"
      },
      "execution_count": null,
      "outputs": [
        {
          "output_type": "error",
          "ename": "SyntaxError",
          "evalue": "invalid syntax (<ipython-input-40-fdf971c7aaac>, line 5)",
          "traceback": [
            "\u001b[0;36m  File \u001b[0;32m\"<ipython-input-40-fdf971c7aaac>\"\u001b[0;36m, line \u001b[0;32m5\u001b[0m\n\u001b[0;31m    print(10 * * 3)\u001b[0m\n\u001b[0m               ^\u001b[0m\n\u001b[0;31mSyntaxError\u001b[0m\u001b[0;31m:\u001b[0m invalid syntax\n"
          ]
        }
      ]
    },
    {
      "cell_type": "code",
      "source": [
        "#2.Logical errors:- Except syntax error all the other errors comes under logical error\n",
        "#Ex :- Indentation error(Space), type error(typing), recurssive error(Repeated)..etc"
      ],
      "metadata": {
        "id": "BgKYLuC9OjaN"
      },
      "execution_count": null,
      "outputs": []
    },
    {
      "cell_type": "code",
      "source": [],
      "metadata": {
        "id": "d0Nbcw_2OyxF"
      },
      "execution_count": null,
      "outputs": []
    },
    {
      "cell_type": "markdown",
      "source": [
        "#Round()"
      ],
      "metadata": {
        "id": "WRWuwlqTQuaN"
      }
    },
    {
      "cell_type": "code",
      "source": [
        "#It will give the nearest value, means we are rounding off the value\n",
        "print(round(10.5))\n",
        "print(round(10.6))\n",
        "#Note : If the value is equal to and less than 0.5 then the round of value can be floor value"
      ],
      "metadata": {
        "colab": {
          "base_uri": "https://localhost:8080/"
        },
        "id": "VdHNFmi0QxZT",
        "outputId": "22f0efa0-af6f-4a4a-bd63-e281765db710"
      },
      "execution_count": null,
      "outputs": [
        {
          "output_type": "stream",
          "name": "stdout",
          "text": [
            "10\n",
            "11\n"
          ]
        }
      ]
    },
    {
      "cell_type": "code",
      "source": [
        "print(round(2.3456))"
      ],
      "metadata": {
        "colab": {
          "base_uri": "https://localhost:8080/"
        },
        "id": "wr__78reRNbz",
        "outputId": "da6267ca-7fe5-47e9-8310-35341b2dd448"
      },
      "execution_count": null,
      "outputs": [
        {
          "output_type": "stream",
          "name": "stdout",
          "text": [
            "2\n"
          ]
        }
      ]
    },
    {
      "cell_type": "code",
      "source": [
        "#If I want to print number with and after 2 decimal point\n",
        "print(round(2.3456,2))"
      ],
      "metadata": {
        "colab": {
          "base_uri": "https://localhost:8080/"
        },
        "id": "dLEz7g_LRqIl",
        "outputId": "57417f2b-82a1-477b-b676-c39567896107"
      },
      "execution_count": null,
      "outputs": [
        {
          "output_type": "stream",
          "name": "stdout",
          "text": [
            "2.35\n"
          ]
        }
      ]
    },
    {
      "cell_type": "code",
      "source": [
        "print(round(2.23245,2))"
      ],
      "metadata": {
        "colab": {
          "base_uri": "https://localhost:8080/"
        },
        "id": "i2EG61V7kq3u",
        "outputId": "be0f76dd-025c-481a-dd1d-dd6f2bb002b3"
      },
      "execution_count": null,
      "outputs": [
        {
          "output_type": "stream",
          "name": "stdout",
          "text": [
            "2.23\n"
          ]
        }
      ]
    },
    {
      "cell_type": "code",
      "source": [
        "print(round(2.2245,2))"
      ],
      "metadata": {
        "colab": {
          "base_uri": "https://localhost:8080/"
        },
        "id": "BffFEawmm_tE",
        "outputId": "f945e549-d4e2-414f-aab6-949724e93af3"
      },
      "execution_count": null,
      "outputs": [
        {
          "output_type": "stream",
          "name": "stdout",
          "text": [
            "2.22\n"
          ]
        }
      ]
    },
    {
      "cell_type": "code",
      "source": [
        "print(round(2.3435,2))"
      ],
      "metadata": {
        "colab": {
          "base_uri": "https://localhost:8080/"
        },
        "id": "RKkRnBiXk6zA",
        "outputId": "d34cb29a-4369-4fea-8f8f-fef4808a1e95"
      },
      "execution_count": null,
      "outputs": [
        {
          "output_type": "stream",
          "name": "stdout",
          "text": [
            "2.34\n"
          ]
        }
      ]
    },
    {
      "cell_type": "code",
      "source": [
        "print(round(2.3455,2))"
      ],
      "metadata": {
        "colab": {
          "base_uri": "https://localhost:8080/"
        },
        "id": "rqu3E1htSSKD",
        "outputId": "892628f6-f132-4a9b-f209-2c42e2b402e2"
      },
      "execution_count": null,
      "outputs": [
        {
          "output_type": "stream",
          "name": "stdout",
          "text": [
            "2.35\n"
          ]
        }
      ]
    },
    {
      "cell_type": "code",
      "source": [
        "print(round(2.3456,3))"
      ],
      "metadata": {
        "colab": {
          "base_uri": "https://localhost:8080/"
        },
        "id": "2JNnH8KhSYTZ",
        "outputId": "c6c6f8a9-b4e6-4c43-d551-9371516e695d"
      },
      "execution_count": null,
      "outputs": [
        {
          "output_type": "stream",
          "name": "stdout",
          "text": [
            "2.346\n"
          ]
        }
      ]
    },
    {
      "cell_type": "code",
      "source": [
        "round(0.545,2)"
      ],
      "metadata": {
        "colab": {
          "base_uri": "https://localhost:8080/"
        },
        "id": "7GgOQJeYl16S",
        "outputId": "d52ac4f0-ef86-4660-8aa1-3945a34647dd"
      },
      "execution_count": null,
      "outputs": [
        {
          "output_type": "execute_result",
          "data": {
            "text/plain": [
              "0.55"
            ]
          },
          "metadata": {},
          "execution_count": 9
        }
      ]
    },
    {
      "cell_type": "code",
      "source": [
        "#What is ceiling value?\n",
        "#Ans : When you use rounf off function and the value is more than (0.5) it will got for thr neares upcoming value.\n",
        "#So, upcoming value is known as ceiling value."
      ],
      "metadata": {
        "id": "MBjtlfQ7ScQQ"
      },
      "execution_count": null,
      "outputs": []
    },
    {
      "cell_type": "code",
      "source": [
        "print(\"Hello world!\")"
      ],
      "metadata": {
        "colab": {
          "base_uri": "https://localhost:8080/"
        },
        "id": "TjxPw0T7TUAS",
        "outputId": "414b52f6-f825-4470-b4b8-e62524cf7879"
      },
      "execution_count": null,
      "outputs": [
        {
          "output_type": "stream",
          "name": "stdout",
          "text": [
            "Hello world!\n"
          ]
        }
      ]
    },
    {
      "cell_type": "code",
      "source": [
        "\"\"\" Hey world,\n",
        "    This is ansari,\n",
        "    and Im student of zenvius. \"\"\""
      ],
      "metadata": {
        "id": "HXXnIiA4T2p0",
        "colab": {
          "base_uri": "https://localhost:8080/",
          "height": 35
        },
        "outputId": "9e5b7d52-9b87-46f1-b03b-5ffdc5edce08"
      },
      "execution_count": null,
      "outputs": [
        {
          "output_type": "execute_result",
          "data": {
            "text/plain": [
              "' Hey world,\\n    This is ansari,\\n    and Im student of zenvius. '"
            ],
            "application/vnd.google.colaboratory.intrinsic+json": {
              "type": "string"
            }
          },
          "metadata": {},
          "execution_count": 20
        }
      ]
    },
    {
      "cell_type": "markdown",
      "source": [
        "#Day-2 (12-06-2024)"
      ],
      "metadata": {
        "id": "RyHil5ISEymY"
      }
    },
    {
      "cell_type": "code",
      "source": [
        "#print first 2 decimals from the given input 9.6543?\n",
        "print(round(9.6543,2))"
      ],
      "metadata": {
        "colab": {
          "base_uri": "https://localhost:8080/"
        },
        "id": "YJTcwRoSEx2u",
        "outputId": "3d37a472-cf80-45c1-a81e-742164f0997c"
      },
      "execution_count": null,
      "outputs": [
        {
          "output_type": "stream",
          "name": "stdout",
          "text": [
            "9.65\n"
          ]
        }
      ]
    },
    {
      "cell_type": "markdown",
      "source": [
        "#Variables"
      ],
      "metadata": {
        "id": "jfL9Kgd5Fk3g"
      }
    },
    {
      "cell_type": "code",
      "source": [
        "#Why we are using the variables?\n",
        "#Variables are containers where we can store our value information and when ever you wnt you can reuse it."
      ],
      "metadata": {
        "id": "1BVaILIyExvi"
      },
      "execution_count": null,
      "outputs": []
    },
    {
      "cell_type": "code",
      "source": [
        "#How can we create a variable?\n",
        "#How can we access an variable?\n",
        "\n",
        "\"\"\"Lets say father age is x and\n",
        "son age is 1/2 of father age\"\"\"\n",
        "\n",
        "x = 40\n",
        "son_age = x/2\n",
        "\n",
        "print(son_age)"
      ],
      "metadata": {
        "colab": {
          "base_uri": "https://localhost:8080/"
        },
        "id": "mGU82jOgExue",
        "outputId": "f362c150-e10e-4b19-9638-2dc8aa628df0"
      },
      "execution_count": null,
      "outputs": [
        {
          "output_type": "stream",
          "name": "stdout",
          "text": [
            "20.0\n"
          ]
        }
      ]
    },
    {
      "cell_type": "code",
      "source": [
        "x = 10\n",
        "y = 5\n",
        "\n",
        "add = x + y\n",
        "sub = x - y\n",
        "mult = x * y\n",
        "div = x / y\n",
        "expo = x ** y\n",
        "fd = x // y\n",
        "mod = x % y\n",
        "\n",
        "print(add)\n",
        "print(sub)\n",
        "print(mult)\n",
        "print(div)\n",
        "print(expo)\n",
        "print(fd)\n",
        "print(mod)"
      ],
      "metadata": {
        "id": "9nQKx0pinrU2",
        "colab": {
          "base_uri": "https://localhost:8080/"
        },
        "outputId": "4ae8d3fe-b5dc-481b-f3af-5a2e569a374b"
      },
      "execution_count": null,
      "outputs": [
        {
          "output_type": "stream",
          "name": "stdout",
          "text": [
            "15\n",
            "5\n",
            "50\n",
            "2.0\n",
            "100000\n",
            "2\n",
            "0\n"
          ]
        }
      ]
    },
    {
      "cell_type": "code",
      "source": [
        "#Rules to follow for writing variable\n",
        "#Rule(1). Variables can be written by using alphabets\n",
        "a = \"hello world\"\n",
        "print(a)"
      ],
      "metadata": {
        "colab": {
          "base_uri": "https://localhost:8080/"
        },
        "id": "e6-IasyvIEgn",
        "outputId": "40b0d084-d9e1-4c35-c683-1c203fc5aba4"
      },
      "execution_count": null,
      "outputs": [
        {
          "output_type": "stream",
          "name": "stdout",
          "text": [
            "hello world\n"
          ]
        }
      ]
    },
    {
      "cell_type": "code",
      "source": [
        "#Rule(2). You can't start with the numbers\n",
        "2 = 'hey'\n",
        "print(2)"
      ],
      "metadata": {
        "colab": {
          "base_uri": "https://localhost:8080/",
          "height": 108
        },
        "id": "E_CB3CQaIEcJ",
        "outputId": "af3ef991-f934-4ac7-e975-ce69452bc03d"
      },
      "execution_count": null,
      "outputs": [
        {
          "output_type": "error",
          "ename": "SyntaxError",
          "evalue": "cannot assign to literal here. Maybe you meant '==' instead of '='? (<ipython-input-11-7e5b8a500f0a>, line 2)",
          "traceback": [
            "\u001b[0;36m  File \u001b[0;32m\"<ipython-input-11-7e5b8a500f0a>\"\u001b[0;36m, line \u001b[0;32m2\u001b[0m\n\u001b[0;31m    2 = 'hey'\u001b[0m\n\u001b[0m    ^\u001b[0m\n\u001b[0;31mSyntaxError\u001b[0m\u001b[0;31m:\u001b[0m cannot assign to literal here. Maybe you meant '==' instead of '='?\n"
          ]
        }
      ]
    },
    {
      "cell_type": "code",
      "source": [
        "#Rule(3). if you follow rule 1 and 2 then in between the text you can use numbers and alphabets also"
      ],
      "metadata": {
        "id": "LQppoIraIEbA"
      },
      "execution_count": null,
      "outputs": []
    },
    {
      "cell_type": "code",
      "source": [
        "#Rule(4): you can also start with '_'\n",
        "#Rule(5): you cannot use special characters\n",
        "#Rule(6): you cannot give spaces in between variables\n",
        "#Rule(7): Don't start a variabls name with capital  letter\n",
        "#Rule(8): Variables are case sensitive"
      ],
      "metadata": {
        "id": "ET_jXmVLIEWY"
      },
      "execution_count": null,
      "outputs": []
    },
    {
      "cell_type": "code",
      "source": [
        "#Smart way of writing variables?\n",
        "#1. Assign multiple values to multiple variables and print it?\n",
        "a,b,c = (10,20,30)\n",
        "print(a,b,c)\n",
        "\n",
        "#OR\n",
        "\n",
        "a = 10\n"
      ],
      "metadata": {
        "colab": {
          "base_uri": "https://localhost:8080/"
        },
        "id": "TLANJxzhIEVZ",
        "outputId": "3e1ee3fa-168c-4f3f-bf6f-d7b697fb6bc6"
      },
      "execution_count": null,
      "outputs": [
        {
          "output_type": "stream",
          "name": "stdout",
          "text": [
            "10 20 30\n"
          ]
        }
      ]
    },
    {
      "cell_type": "code",
      "source": [
        "(a,b,c) = (1,2,3)\n",
        "print(a,b,c, sep='\\n')"
      ],
      "metadata": {
        "colab": {
          "base_uri": "https://localhost:8080/"
        },
        "id": "v6syV_XepSa4",
        "outputId": "4a7d1588-a4a6-44c4-8df4-845b6ce4e20a"
      },
      "execution_count": null,
      "outputs": [
        {
          "output_type": "stream",
          "name": "stdout",
          "text": [
            "1\n",
            "2\n",
            "3\n"
          ]
        }
      ]
    },
    {
      "cell_type": "code",
      "source": [
        "(a,b,c) = 10\n",
        "\n"
      ],
      "metadata": {
        "colab": {
          "base_uri": "https://localhost:8080/",
          "height": 162
        },
        "id": "j7ItU-yTLift",
        "outputId": "a7a2338d-b848-4351-f48f-0535b6febea8"
      },
      "execution_count": null,
      "outputs": [
        {
          "output_type": "error",
          "ename": "TypeError",
          "evalue": "cannot unpack non-iterable int object",
          "traceback": [
            "\u001b[0;31m---------------------------------------------------------------------------\u001b[0m",
            "\u001b[0;31mTypeError\u001b[0m                                 Traceback (most recent call last)",
            "\u001b[0;32m<ipython-input-17-9c443d27339c>\u001b[0m in \u001b[0;36m<cell line: 1>\u001b[0;34m()\u001b[0m\n\u001b[0;32m----> 1\u001b[0;31m \u001b[0;34m(\u001b[0m\u001b[0ma\u001b[0m\u001b[0;34m,\u001b[0m\u001b[0mb\u001b[0m\u001b[0;34m,\u001b[0m\u001b[0mc\u001b[0m\u001b[0;34m)\u001b[0m \u001b[0;34m=\u001b[0m \u001b[0;36m10\u001b[0m\u001b[0;34m\u001b[0m\u001b[0;34m\u001b[0m\u001b[0m\n\u001b[0m\u001b[1;32m      2\u001b[0m \u001b[0;34m\u001b[0m\u001b[0m\n",
            "\u001b[0;31mTypeError\u001b[0m: cannot unpack non-iterable int object"
          ]
        }
      ]
    },
    {
      "cell_type": "code",
      "source": [
        "#Assign single value to the multiple variable and print it?\n",
        "\n",
        "a = 10\n",
        "b = 10\n",
        "c = 10\n",
        "\n",
        "print(a,b,c)"
      ],
      "metadata": {
        "colab": {
          "base_uri": "https://localhost:8080/"
        },
        "id": "p5HowP95Libz",
        "outputId": "0e4bfe99-db56-45e5-e60d-e2077bea8876"
      },
      "execution_count": null,
      "outputs": [
        {
          "output_type": "stream",
          "name": "stdout",
          "text": [
            "10 10 10\n"
          ]
        }
      ]
    },
    {
      "cell_type": "code",
      "source": [
        "a = b = c = 10\n",
        "print(a,b,c, sep='\\n')"
      ],
      "metadata": {
        "colab": {
          "base_uri": "https://localhost:8080/"
        },
        "id": "datH3d4tptur",
        "outputId": "509f1c59-fba1-4294-cb3d-ad6cb46ea33b"
      },
      "execution_count": null,
      "outputs": [
        {
          "output_type": "stream",
          "name": "stdout",
          "text": [
            "10\n",
            "10\n",
            "10\n"
          ]
        }
      ]
    },
    {
      "cell_type": "code",
      "source": [
        "#To print the output in n number of lines.\n",
        "\n",
        "a = 10\n",
        "b = 10\n",
        "c = 10\n",
        "\n",
        "print(a,b,c, sep=\"\\n\")"
      ],
      "metadata": {
        "colab": {
          "base_uri": "https://localhost:8080/"
        },
        "id": "P9wB2GN3LiZ1",
        "outputId": "c2db3a0c-f1b6-4a51-e8f9-4fafb7d4edf2"
      },
      "execution_count": null,
      "outputs": [
        {
          "output_type": "stream",
          "name": "stdout",
          "text": [
            "10\n",
            "10\n",
            "10\n"
          ]
        }
      ]
    },
    {
      "cell_type": "code",
      "source": [
        "a = 10\n",
        "b = 20\n",
        "c = 30\n",
        "\n",
        "print(a,b,c, sep=\"\\n\")"
      ],
      "metadata": {
        "colab": {
          "base_uri": "https://localhost:8080/"
        },
        "id": "4koYl4qaLiV3",
        "outputId": "da9dc984-403c-4a2e-a419-c203d0406d8d"
      },
      "execution_count": null,
      "outputs": [
        {
          "output_type": "stream",
          "name": "stdout",
          "text": [
            "10\n",
            "20\n",
            "30\n"
          ]
        }
      ]
    },
    {
      "cell_type": "markdown",
      "source": [
        "#Input()"
      ],
      "metadata": {
        "id": "5E-_jbcLOTUm"
      }
    },
    {
      "cell_type": "code",
      "source": [
        "#What is input()?\n",
        "#it will take what ever information given by user\n",
        "#how to create the input()?\n",
        "#to create input function we are using \"Input()\" along with variable\n",
        "#how to acces input ()?\n",
        "#with help of input variable we can access the input() values.\n",
        "\n"
      ],
      "metadata": {
        "id": "AjRV9pfBLiU3"
      },
      "execution_count": null,
      "outputs": []
    },
    {
      "cell_type": "code",
      "source": [
        "a = input()\n",
        "print(a)\n",
        "print(type(a))\n",
        "\n",
        "\n",
        "#What is default data type for input()?\n",
        "#Ans - string"
      ],
      "metadata": {
        "colab": {
          "base_uri": "https://localhost:8080/"
        },
        "id": "lSsmXw2WLiRD",
        "outputId": "cc956f67-d205-4734-ccc2-ab49cd982f88"
      },
      "execution_count": null,
      "outputs": [
        {
          "output_type": "stream",
          "name": "stdout",
          "text": [
            "5\n",
            "5\n",
            "<class 'str'>\n"
          ]
        }
      ]
    },
    {
      "cell_type": "code",
      "source": [
        "#Create 2 input() program and do all arthamatic operation?\n",
        "\n",
        "a = int(input())\n",
        "b = int(input())\n",
        "\n",
        "print(a + b)\n",
        "print(a - b)\n",
        "print(a * b)\n",
        "print(a / b)\n",
        "print(a ** b)\n",
        "print(a // b)\n",
        "print(a % b)"
      ],
      "metadata": {
        "colab": {
          "base_uri": "https://localhost:8080/"
        },
        "id": "0wU83eFsLiQC",
        "outputId": "6dfd37e4-4010-4ccc-f4e8-8bca2a1590b8"
      },
      "execution_count": null,
      "outputs": [
        {
          "output_type": "stream",
          "name": "stdout",
          "text": [
            "10\n",
            "9\n",
            "19\n",
            "1\n",
            "90\n",
            "1.1111111111111112\n",
            "1000000000\n",
            "1\n",
            "1\n"
          ]
        }
      ]
    },
    {
      "cell_type": "code",
      "source": [
        "#Create 2 input() program and do all arthamatic operation?\n",
        "\n",
        "a = float(input())\n",
        "b = float(input())\n",
        "\n",
        "print(a + b)\n",
        "print(a - b)\n",
        "print(a * b)\n",
        "print(a / b)\n",
        "print(a ** b)\n",
        "print(a // b)\n",
        "print(a % b)"
      ],
      "metadata": {
        "colab": {
          "base_uri": "https://localhost:8080/"
        },
        "id": "Oxg753vLLiMQ",
        "outputId": "318c285e-7794-4850-f7b4-2e0557fddb1d"
      },
      "execution_count": null,
      "outputs": [
        {
          "output_type": "stream",
          "name": "stdout",
          "text": [
            "10\n",
            "9\n",
            "19.0\n",
            "1.0\n",
            "90.0\n",
            "1.1111111111111112\n",
            "1000000000.0\n",
            "1.0\n",
            "1.0\n"
          ]
        }
      ]
    },
    {
      "cell_type": "code",
      "source": [
        "a  = input(\"enter the number :\" )\n",
        "print(\"a =\",a)"
      ],
      "metadata": {
        "colab": {
          "base_uri": "https://localhost:8080/"
        },
        "id": "FRB7A8Brqrqm",
        "outputId": "6f94cb3f-5b02-43a8-dc7b-5a5034b9007b"
      },
      "execution_count": null,
      "outputs": [
        {
          "output_type": "stream",
          "name": "stdout",
          "text": [
            "enter the number :1\n",
            "a = 1\n"
          ]
        }
      ]
    },
    {
      "cell_type": "markdown",
      "source": [
        "#String"
      ],
      "metadata": {
        "id": "eSugL4-hRzlm"
      }
    },
    {
      "cell_type": "code",
      "source": [
        "#what is a string?\n",
        "#string is a collection of group of characters which written inside ' or \"\n",
        "a = \"hello world!\"\n",
        "print(a)\n",
        "print(type(a))"
      ],
      "metadata": {
        "colab": {
          "base_uri": "https://localhost:8080/"
        },
        "id": "WimcQJ5GLiLQ",
        "outputId": "f8e91945-c004-4d4d-e891-01ee9b83464a"
      },
      "execution_count": null,
      "outputs": [
        {
          "output_type": "stream",
          "name": "stdout",
          "text": [
            "hello world!\n",
            "<class 'str'>\n"
          ]
        }
      ]
    },
    {
      "cell_type": "code",
      "source": [
        "a = input(\"Enter a number : \")\n",
        "print(a)"
      ],
      "metadata": {
        "colab": {
          "base_uri": "https://localhost:8080/"
        },
        "id": "GcxliMEWSCRF",
        "outputId": "9d68e756-d4df-45c2-d7c2-cbba0dac2f4a"
      },
      "execution_count": null,
      "outputs": [
        {
          "output_type": "stream",
          "name": "stdout",
          "text": [
            "Enter a number : 100\n",
            "100\n"
          ]
        }
      ]
    },
    {
      "cell_type": "code",
      "source": [
        "#Write a multiple lines of string?"
      ],
      "metadata": {
        "id": "F00mWYLySCM9"
      },
      "execution_count": null,
      "outputs": []
    },
    {
      "cell_type": "code",
      "source": [
        "#note : string is collection multiple characters each and every characeter is accessble.\n",
        "#how can we access each element in a string?\n",
        "#Indexing"
      ],
      "metadata": {
        "id": "WIR-WlHUSCL2"
      },
      "execution_count": null,
      "outputs": []
    },
    {
      "cell_type": "code",
      "source": [
        "#find the length of the given string:\n",
        "a = \"Hello world!\"\n",
        "len(a)"
      ],
      "metadata": {
        "colab": {
          "base_uri": "https://localhost:8080/"
        },
        "id": "mORUxlazSCIi",
        "outputId": "137cf3ee-78d7-439a-edee-39941f7bab18"
      },
      "execution_count": null,
      "outputs": [
        {
          "output_type": "execute_result",
          "data": {
            "text/plain": [
              "12"
            ]
          },
          "metadata": {},
          "execution_count": 40
        }
      ]
    },
    {
      "cell_type": "code",
      "source": [
        "#Print w from \"hello world\"\n",
        "a = \"hello world!\"\n",
        "print(a[6])\n",
        "print(a[0])\n",
        "#print the range of characters?\n",
        "print(a[0:5])\n",
        "print(a[6:11])\n",
        "#if you want to display specific end character then you need to add it with 1 'n+1'"
      ],
      "metadata": {
        "colab": {
          "base_uri": "https://localhost:8080/"
        },
        "id": "cw55pm1aSCHY",
        "outputId": "9e54c129-12f3-4c9f-a628-2f015e4059e3"
      },
      "execution_count": null,
      "outputs": [
        {
          "output_type": "stream",
          "name": "stdout",
          "text": [
            "w\n",
            "h\n",
            "hello\n",
            "world\n"
          ]
        }
      ]
    },
    {
      "cell_type": "code",
      "source": [
        "#I want to print step wise elements from a string\n",
        "\n",
        "a = \"hello world!\"\n",
        "\n",
        "print(a[0:12:2])\n",
        "print(a[0:12:3])\n",
        "print(a[0:12:4])\n",
        "print(a[1:11:2])\n",
        "\n",
        "#negative indexing : accesing the elements in string from reverse direction.\n",
        "print(a[-1])\n",
        "\n",
        "#Print world from hello world in -ve direction?\n",
        "print(a[])"
      ],
      "metadata": {
        "colab": {
          "base_uri": "https://localhost:8080/"
        },
        "id": "Vuzm9AmoZBXE",
        "outputId": "ded6c95f-44d8-4ade-9b38-e8468d65a608"
      },
      "execution_count": null,
      "outputs": [
        {
          "output_type": "stream",
          "name": "stdout",
          "text": [
            "hlowrd\n",
            "hlwl\n",
            "hor\n",
            "el ol\n",
            "!\n"
          ]
        }
      ]
    },
    {
      "cell_type": "code",
      "source": [
        "b = \"univerese\"\n",
        "print(b[::-1])"
      ],
      "metadata": {
        "colab": {
          "base_uri": "https://localhost:8080/"
        },
        "id": "xZHpLLAJZBS1",
        "outputId": "94a0fbfc-cc65-4b4c-be7c-098af72f8c77"
      },
      "execution_count": null,
      "outputs": [
        {
          "output_type": "stream",
          "name": "stdout",
          "text": [
            "eserevinu\n"
          ]
        }
      ]
    },
    {
      "cell_type": "code",
      "source": [
        "c=\"hyderabad\"\n",
        "print(c[::-1])"
      ],
      "metadata": {
        "colab": {
          "base_uri": "https://localhost:8080/"
        },
        "id": "xGG8wY9xZBRN",
        "outputId": "6f9d5df0-5709-4d46-bdf5-91d120ecd057"
      },
      "execution_count": null,
      "outputs": [
        {
          "output_type": "stream",
          "name": "stdout",
          "text": [
            "dabaredyh\n"
          ]
        }
      ]
    },
    {
      "cell_type": "code",
      "source": [
        "d = 'moin uddin ansari'\n",
        "print(d[0:4])\n",
        "print(len(d))\n",
        "print(d[4:15])\n",
        "print(d[-16:-9:1])\n",
        "print(d[-14:-5:1])\n",
        "print(d[3:12])\n",
        "\n",
        "\n"
      ],
      "metadata": {
        "id": "qaM7Z6ElZBMi",
        "colab": {
          "base_uri": "https://localhost:8080/"
        },
        "outputId": "6eafd168-1f4b-44ee-88af-15bfeffa3ed1"
      },
      "execution_count": null,
      "outputs": [
        {
          "output_type": "stream",
          "name": "stdout",
          "text": [
            "moin\n",
            "17\n",
            " uddin ansa\n",
            "oin udd\n",
            "n uddin a\n",
            "n uddin a\n"
          ]
        }
      ]
    },
    {
      "cell_type": "markdown",
      "source": [
        "#Day-3 (13-june)"
      ],
      "metadata": {
        "id": "SkJaUxuUV2SV"
      }
    },
    {
      "cell_type": "markdown",
      "source": [],
      "metadata": {
        "id": "0CAvTv3tV1tH"
      }
    },
    {
      "cell_type": "code",
      "source": [
        "string = \"Hello, world!\"\n",
        "print(string[4])\n",
        "print(string[-1])\n",
        "print(string[-13:-8])\n",
        "print(string[-8:-14:-1])\n",
        "\n",
        "\n"
      ],
      "metadata": {
        "id": "6sdHby6VZBLV",
        "colab": {
          "base_uri": "https://localhost:8080/"
        },
        "outputId": "a4d7b253-8b45-40ac-b6d0-636f896f5c56"
      },
      "execution_count": null,
      "outputs": [
        {
          "output_type": "stream",
          "name": "stdout",
          "text": [
            "o\n",
            "!\n",
            "Hello\n",
            ",olleH\n"
          ]
        }
      ]
    },
    {
      "cell_type": "markdown",
      "source": [
        "#String methods"
      ],
      "metadata": {
        "id": "30Z9nYFHZRIe"
      }
    },
    {
      "cell_type": "code",
      "source": [
        "x = \"hello world!\"\n",
        "#How to answer :-What are all the  methods I can apply on x = \"hello world!\"\n",
        "#\n",
        "print(dir(x))"
      ],
      "metadata": {
        "id": "4kTURNYXZBDB",
        "colab": {
          "base_uri": "https://localhost:8080/"
        },
        "outputId": "0c70e164-1f0e-496e-9523-a2094439c93e"
      },
      "execution_count": null,
      "outputs": [
        {
          "output_type": "stream",
          "name": "stdout",
          "text": [
            "['__add__', '__class__', '__contains__', '__delattr__', '__dir__', '__doc__', '__eq__', '__format__', '__ge__', '__getattribute__', '__getitem__', '__getnewargs__', '__gt__', '__hash__', '__init__', '__init_subclass__', '__iter__', '__le__', '__len__', '__lt__', '__mod__', '__mul__', '__ne__', '__new__', '__reduce__', '__reduce_ex__', '__repr__', '__rmod__', '__rmul__', '__setattr__', '__sizeof__', '__str__', '__subclasshook__', 'capitalize', 'casefold', 'center', 'count', 'encode', 'endswith', 'expandtabs', 'find', 'format', 'format_map', 'index', 'isalnum', 'isalpha', 'isascii', 'isdecimal', 'isdigit', 'isidentifier', 'islower', 'isnumeric', 'isprintable', 'isspace', 'istitle', 'isupper', 'join', 'ljust', 'lower', 'lstrip', 'maketrans', 'partition', 'removeprefix', 'removesuffix', 'replace', 'rfind', 'rindex', 'rjust', 'rpartition', 'rsplit', 'rstrip', 'split', 'splitlines', 'startswith', 'strip', 'swapcase', 'title', 'translate', 'upper', 'zfill']\n"
          ]
        }
      ]
    },
    {
      "cell_type": "code",
      "source": [
        "#There are 10 total string methods\n",
        "#1.capitalize\n",
        "#2.upper\n",
        "#3,lower\n",
        "#4.replace\n",
        "#5.trim\n",
        "#6.find\n",
        "#7.title\n",
        "#8.swapcase\n",
        "#9.split\n",
        "#10.ltrim\n",
        "#How to apply string methods?\n",
        "\n",
        "x = \"hello world!\"\n",
        "print(x.upper())\n",
        "print(x.lower())\n",
        "print(x.title())\n",
        "print(x.swapcase())\n",
        "print(x.lstrip())\n",
        "print(x.split())\n",
        "print(x.capitalize())\n",
        "\n",
        "\n"
      ],
      "metadata": {
        "id": "v7RNWBgKZA_o",
        "colab": {
          "base_uri": "https://localhost:8080/"
        },
        "outputId": "7ebc9614-ad6c-469f-8ab8-c940649768ad"
      },
      "execution_count": null,
      "outputs": [
        {
          "output_type": "stream",
          "name": "stdout",
          "text": [
            "HELLO WORLD!\n",
            "hello world!\n",
            "Hello World!\n",
            "HELLO WORLD!\n",
            "hello world!\n",
            "['hello', 'world!']\n",
            "Hello world!\n"
          ]
        }
      ]
    },
    {
      "cell_type": "markdown",
      "source": [
        "**String format method**"
      ],
      "metadata": {
        "id": "6PMej_sAbq-T"
      }
    },
    {
      "cell_type": "code",
      "source": [
        "x = \"10\"\n",
        "y = \"My age is 10\"\n"
      ],
      "metadata": {
        "id": "R_qjzHk3ZA8_"
      },
      "execution_count": null,
      "outputs": []
    },
    {
      "cell_type": "code",
      "source": [
        "#What is string format method?\n",
        "#Filling the placeholders{} with given arguments\n",
        "#There are 3 format methods:-\n",
        "\n",
        "#1-method:\n",
        "\n",
        "age = 40\n",
        "string = \"my age is {}\"\n",
        "print(string.format(age))"
      ],
      "metadata": {
        "id": "A9uAalhvRx-w",
        "colab": {
          "base_uri": "https://localhost:8080/"
        },
        "outputId": "215c82fb-e39f-429d-a0f2-5a181736a0b4"
      },
      "execution_count": null,
      "outputs": [
        {
          "output_type": "stream",
          "name": "stdout",
          "text": [
            "my age is 40\n"
          ]
        }
      ]
    },
    {
      "cell_type": "code",
      "source": [
        "#2-method:\n",
        "\n",
        "age = 40\n",
        "string = \"my age is {}\".format(age)\n",
        "print(string)\n",
        "\n"
      ],
      "metadata": {
        "id": "icrtatKqRx9n",
        "colab": {
          "base_uri": "https://localhost:8080/"
        },
        "outputId": "3c73e79d-ad12-4fef-e257-7724d439763a"
      },
      "execution_count": null,
      "outputs": [
        {
          "output_type": "stream",
          "name": "stdout",
          "text": [
            "my age is 40\n"
          ]
        }
      ]
    },
    {
      "cell_type": "code",
      "source": [
        "#3-method:\n",
        "\n",
        "age = 40\n",
        "string = f\"my age is {age}\"\n",
        "print(string)"
      ],
      "metadata": {
        "colab": {
          "base_uri": "https://localhost:8080/"
        },
        "id": "e--S4ScndcVl",
        "outputId": "0120722c-ed07-455a-ba70-cf2226b05369"
      },
      "execution_count": null,
      "outputs": [
        {
          "output_type": "stream",
          "name": "stdout",
          "text": [
            "my age is 40\n"
          ]
        }
      ]
    },
    {
      "cell_type": "code",
      "source": [
        "#Method-2(format)(example):\n",
        "\n",
        "item = 'Product A'\n",
        "price = 99.9\n",
        "quantity = 20\n",
        "text = 'Your order for {}, number of items {}, priced at {} is confirmed'.format(item,quantity,price)\n",
        "\n",
        "print(text)"
      ],
      "metadata": {
        "colab": {
          "base_uri": "https://localhost:8080/"
        },
        "id": "87Cew1IvdnL5",
        "outputId": "94b6402d-2fde-4217-9bbc-e1cd2212e0ef"
      },
      "execution_count": null,
      "outputs": [
        {
          "output_type": "stream",
          "name": "stdout",
          "text": [
            "Your order for Product A, number of items 20, priced at 99.9 is confirmed\n"
          ]
        }
      ]
    },
    {
      "cell_type": "code",
      "source": [
        "#Method-3(format)(example):\n",
        "\n",
        "\n",
        "item = 'Product A'\n",
        "price = 99.9\n",
        "quantity = 20\n",
        "text = f'Your order for {item}, number of items {quantity}, priced at {price} is confirmed'\n",
        "\n",
        "print(text)"
      ],
      "metadata": {
        "colab": {
          "base_uri": "https://localhost:8080/"
        },
        "id": "VM5M3NPYe04p",
        "outputId": "0b39820e-481f-488d-94ae-802f4eadb194"
      },
      "execution_count": null,
      "outputs": [
        {
          "output_type": "stream",
          "name": "stdout",
          "text": [
            "Your order for Product A, number of items 20, priced at 99.9 is confirmed\n"
          ]
        }
      ]
    },
    {
      "cell_type": "markdown",
      "source": [
        "#Conditional statements/Control structures"
      ],
      "metadata": {
        "id": "pQ2slGplgeYz"
      }
    },
    {
      "cell_type": "code",
      "source": [
        "#what are all coparision operators we have in python?\n",
        "\n",
        "#1. equals to --> ==\n",
        "#2. not equals to --> !=\n",
        "#3. greater than --> >\n",
        "#4. less than --> <\n",
        "#5. greater than equal to --> >=\n",
        "#6. greater than equal to --> <=\n"
      ],
      "metadata": {
        "id": "QhvjHnGjfP7K"
      },
      "execution_count": null,
      "outputs": []
    },
    {
      "cell_type": "code",
      "source": [
        "print( 10 == 10)"
      ],
      "metadata": {
        "colab": {
          "base_uri": "https://localhost:8080/"
        },
        "id": "HoqBtlIbgdlR",
        "outputId": "2296b8fd-7f01-4b20-c5c5-2d9ed75dceea"
      },
      "execution_count": null,
      "outputs": [
        {
          "output_type": "stream",
          "name": "stdout",
          "text": [
            "True\n"
          ]
        }
      ]
    },
    {
      "cell_type": "code",
      "source": [],
      "metadata": {
        "id": "3ckUR58Sh8R6"
      },
      "execution_count": null,
      "outputs": []
    },
    {
      "cell_type": "code",
      "source": [
        "print(\"Hello\" == \"hello\")"
      ],
      "metadata": {
        "colab": {
          "base_uri": "https://localhost:8080/"
        },
        "id": "Hf6cSH61gdj0",
        "outputId": "56d1257a-4211-482d-ecef-36cdd030cd8d"
      },
      "execution_count": null,
      "outputs": [
        {
          "output_type": "stream",
          "name": "stdout",
          "text": [
            "False\n"
          ]
        }
      ]
    },
    {
      "cell_type": "code",
      "source": [
        "#What are all conditional statements we have?\n",
        "#if, else, elif\n",
        "\n",
        "marks = 40\n",
        "passing_marks = 35\n",
        "total_marks = 100\n",
        "\n",
        "if marks >= passing_marks:\n",
        "  print(\"Congratulations\")\n",
        "  print(f'you have passed with the {marks}')\n",
        "else:\n",
        "  print(\"better luck next time\")\n",
        "  print(f\"you have got {marks} marks\")"
      ],
      "metadata": {
        "colab": {
          "base_uri": "https://localhost:8080/"
        },
        "id": "PHGYwuIxgdfs",
        "outputId": "8d1852f9-9e67-42e8-b409-f68baba09074"
      },
      "execution_count": null,
      "outputs": [
        {
          "output_type": "stream",
          "name": "stdout",
          "text": [
            "Congratulations\n",
            "you have passed with the 40\n"
          ]
        }
      ]
    },
    {
      "cell_type": "code",
      "source": [
        "#print a number if its +ve then print positive or -ve then print negative or 0 then print zero\n",
        "\n",
        "a = int(input(\" a = \"))\n",
        "if a > 0:\n",
        "  print(f\"The given number is {a}, so it's positive\")\n",
        "elif a < 0:\n",
        "  print(f\"The given number is {a}, so it's negative\")\n",
        "else:\n",
        "  print(f\"The given number is {a}, so it's zero\")\n"
      ],
      "metadata": {
        "colab": {
          "base_uri": "https://localhost:8080/"
        },
        "id": "CUGN7Gj0gdeG",
        "outputId": "baf13197-17a3-45f2-b64d-356d66a7d38d"
      },
      "execution_count": null,
      "outputs": [
        {
          "output_type": "stream",
          "name": "stdout",
          "text": [
            " a = 0\n",
            "The given number is 0, so it's zero\n"
          ]
        }
      ]
    },
    {
      "cell_type": "markdown",
      "source": [
        "#Logical operators:"
      ],
      "metadata": {
        "id": "pN1SYGbSlKdY"
      }
    },
    {
      "cell_type": "code",
      "source": [
        "#Logical operators :- (and, or, not)\n",
        "#and : all the present conditions are true\n",
        "#or : If any one condition is satisfied\n",
        "#not : Reverse the output\n"
      ],
      "metadata": {
        "id": "VJqX0SpYgdZq"
      },
      "execution_count": null,
      "outputs": []
    },
    {
      "cell_type": "code",
      "source": [
        "#Check the condition where a is lesser than b and b is lesser than c and b is greater than a\n",
        "\n",
        "a = 10\n",
        "b = 56\n",
        "c = 455\n",
        "if a < b and b < c and b > a:\n",
        "  print(\"yes\")\n",
        "else:\n",
        "  print(\"No\")"
      ],
      "metadata": {
        "colab": {
          "base_uri": "https://localhost:8080/"
        },
        "id": "rMeUCqSugdYJ",
        "outputId": "225c51ce-624e-4dc4-bf69-2bdb7047b22e"
      },
      "execution_count": null,
      "outputs": [
        {
          "output_type": "stream",
          "name": "stdout",
          "text": [
            "yes\n"
          ]
        }
      ]
    },
    {
      "cell_type": "code",
      "source": [
        "#Nested condition:\n",
        "#When we have to use nested condition?\n",
        "\n",
        "\n",
        "\n",
        "a = 40\n",
        "if a > 10:\n",
        "  print(f\"{a} is \")"
      ],
      "metadata": {
        "id": "rN0jxgysgdUY"
      },
      "execution_count": null,
      "outputs": []
    },
    {
      "cell_type": "code",
      "source": [
        "#pass :- its a null place holder when you execute it nothing happens\n",
        "\n",
        "a = int(input(\"Enter your number : \"))\n",
        "if a > 0:\n",
        "  print(\"+ve\")\n",
        "  pass\n",
        "elif a == 0:\n",
        "  print(\"Neutral\")\n",
        "else:\n",
        "  print(\"-ve\")"
      ],
      "metadata": {
        "colab": {
          "base_uri": "https://localhost:8080/"
        },
        "id": "rDxOin0RgdS7",
        "outputId": "5e8247b8-0dda-49d5-e754-2a82458e2ee9"
      },
      "execution_count": null,
      "outputs": [
        {
          "output_type": "stream",
          "name": "stdout",
          "text": [
            "Enter your number : 5\n",
            "+ve\n"
          ]
        }
      ]
    },
    {
      "cell_type": "code",
      "source": [],
      "metadata": {
        "id": "vDVkyZmGf6Dg"
      },
      "execution_count": null,
      "outputs": []
    },
    {
      "cell_type": "code",
      "source": [],
      "metadata": {
        "id": "UoqpjLZEf5-u"
      },
      "execution_count": null,
      "outputs": []
    },
    {
      "cell_type": "code",
      "source": [],
      "metadata": {
        "id": "8qtOyF9Uf57z"
      },
      "execution_count": null,
      "outputs": []
    },
    {
      "cell_type": "code",
      "source": [],
      "metadata": {
        "id": "e3ka_P80o2vg"
      },
      "execution_count": null,
      "outputs": []
    },
    {
      "cell_type": "markdown",
      "source": [
        "#Day-4 (14-June-2024)"
      ],
      "metadata": {
        "id": "QQ5ApTNh22YQ"
      }
    },
    {
      "cell_type": "markdown",
      "source": [
        "#loops"
      ],
      "metadata": {
        "id": "T-lUA7jFe11Z"
      }
    },
    {
      "cell_type": "code",
      "source": [
        "#Why do we use loops?\n",
        "#We are using this loops to avoid 'wet' code and to encourage 'dry' code.\n",
        "#1. WET code :- Means you are repeating the code.\n",
        "\"\"\" W --> write\n",
        "    e --> everything\n",
        "    t --> twite \"\"\"\n",
        "\n",
        "#2. DRY code :- Not repeating the same code.\n",
        "\"\"\" D --> Don't\n",
        "    r --> repeat\n",
        "    y --> yourself \"\"\""
      ],
      "metadata": {
        "id": "6NGN7sx62-HX"
      },
      "execution_count": null,
      "outputs": []
    },
    {
      "cell_type": "code",
      "source": [
        "#How many types of loops we have in python?\n",
        "#There are 2 types:-\n",
        "#1. while loop:\n",
        "#2. For loop:"
      ],
      "metadata": {
        "id": "lO3lky-S2_Qu"
      },
      "execution_count": null,
      "outputs": []
    },
    {
      "cell_type": "code",
      "source": [
        "#While loop :- It works / runs a set of instructions as lon as the condition remains true."
      ],
      "metadata": {
        "id": "VPQi1dZm2_Pp"
      },
      "execution_count": null,
      "outputs": []
    },
    {
      "cell_type": "code",
      "source": [
        "#Write a progrm to run a lift and I need to reach 4 floor.\n",
        "\n",
        "D = 4\n",
        "intial = 0\n",
        "\n",
        "while intial < D:\n",
        "  print(\"reach destination\")\n",
        "  print(\"=================\")\n",
        "  intial = intial+1\n"
      ],
      "metadata": {
        "id": "QsfPM33Y2_MZ",
        "colab": {
          "base_uri": "https://localhost:8080/"
        },
        "outputId": "0716aa45-e500-43b6-c05c-aba5670e032b"
      },
      "execution_count": null,
      "outputs": [
        {
          "output_type": "stream",
          "name": "stdout",
          "text": [
            "reach destination\n",
            "=================\n",
            "reach destination\n",
            "=================\n",
            "reach destination\n",
            "=================\n",
            "reach destination\n",
            "=================\n"
          ]
        }
      ]
    },
    {
      "cell_type": "code",
      "source": [
        "#Example of while loop.\n",
        "\n",
        "i = 0\n",
        "\n",
        "while i < 10:\n",
        "  print(i)\n",
        "  i = i + 1"
      ],
      "metadata": {
        "id": "62MXTn4M2_KO"
      },
      "execution_count": null,
      "outputs": []
    },
    {
      "cell_type": "code",
      "source": [
        "#Print the multiples of 2\n",
        "\n",
        "m = int(input(\"Enter a number : \"))\n",
        "i = 1\n",
        "\n",
        "while i <= 5:\n",
        "  print(i * 2)\n",
        "  i = i + 1\n"
      ],
      "metadata": {
        "id": "7xAKeA3j2_GZ",
        "colab": {
          "base_uri": "https://localhost:8080/"
        },
        "outputId": "b9b3b7e1-fa79-41dc-dd91-ce3d70eeaae7"
      },
      "execution_count": null,
      "outputs": [
        {
          "output_type": "stream",
          "name": "stdout",
          "text": [
            "Enter a number : 2\n",
            "2\n",
            "4\n",
            "6\n",
            "8\n",
            "10\n"
          ]
        }
      ]
    },
    {
      "cell_type": "code",
      "source": [
        "#Print the multiples of 2\n",
        "\n",
        "m = int(input(\"Enter a number : \"))\n",
        "i = 1\n",
        "\n",
        "while i <= 10:\n",
        "  print(i)\n",
        "  i = i * 2\n"
      ],
      "metadata": {
        "colab": {
          "base_uri": "https://localhost:8080/"
        },
        "id": "IVMg3Uhsmok8",
        "outputId": "3f1d6e7b-8326-41da-991f-20fc43971276"
      },
      "execution_count": null,
      "outputs": [
        {
          "output_type": "stream",
          "name": "stdout",
          "text": [
            "Enter a number : 2\n",
            "1\n",
            "2\n",
            "4\n",
            "8\n"
          ]
        }
      ]
    },
    {
      "cell_type": "code",
      "source": [
        "\n",
        "#Write a program wheather the given string is plaindrom or not?\n",
        "\n",
        "a = input()\n",
        "a_rev = a[::-1]\n",
        "\n",
        "print(f\"rev of string {a_rev}\")\n",
        "\n",
        "if a.lower() == a_rev.lower():\n",
        "  print(f\"{a} is palinddrom\")\n",
        "else:\n",
        "  print(f\"{a} is not palindrome\")"
      ],
      "metadata": {
        "colab": {
          "base_uri": "https://localhost:8080/",
          "height": 356
        },
        "id": "_3IlEzAtmojj",
        "outputId": "316ce291-1de1-4037-dfbd-5cc47b8d93d0"
      },
      "execution_count": null,
      "outputs": [
        {
          "output_type": "error",
          "ename": "KeyboardInterrupt",
          "evalue": "Interrupted by user",
          "traceback": [
            "\u001b[0;31m---------------------------------------------------------------------------\u001b[0m",
            "\u001b[0;31mKeyboardInterrupt\u001b[0m                         Traceback (most recent call last)",
            "\u001b[0;32m<ipython-input-35-cb3beebff2ed>\u001b[0m in \u001b[0;36m<cell line: 3>\u001b[0;34m()\u001b[0m\n\u001b[1;32m      1\u001b[0m \u001b[0;31m#Write a program wheather the given string is plaindrom or not?\u001b[0m\u001b[0;34m\u001b[0m\u001b[0;34m\u001b[0m\u001b[0m\n\u001b[1;32m      2\u001b[0m \u001b[0;34m\u001b[0m\u001b[0m\n\u001b[0;32m----> 3\u001b[0;31m \u001b[0ma\u001b[0m \u001b[0;34m=\u001b[0m \u001b[0minput\u001b[0m\u001b[0;34m(\u001b[0m\u001b[0;34m)\u001b[0m\u001b[0;34m\u001b[0m\u001b[0;34m\u001b[0m\u001b[0m\n\u001b[0m\u001b[1;32m      4\u001b[0m \u001b[0ma_rev\u001b[0m \u001b[0;34m=\u001b[0m \u001b[0ma\u001b[0m\u001b[0;34m[\u001b[0m\u001b[0;34m:\u001b[0m\u001b[0;34m:\u001b[0m\u001b[0;34m-\u001b[0m\u001b[0;36m1\u001b[0m\u001b[0;34m]\u001b[0m\u001b[0;34m\u001b[0m\u001b[0;34m\u001b[0m\u001b[0m\n\u001b[1;32m      5\u001b[0m \u001b[0;34m\u001b[0m\u001b[0m\n",
            "\u001b[0;32m/usr/local/lib/python3.10/dist-packages/ipykernel/kernelbase.py\u001b[0m in \u001b[0;36mraw_input\u001b[0;34m(self, prompt)\u001b[0m\n\u001b[1;32m    849\u001b[0m                 \u001b[0;34m\"raw_input was called, but this frontend does not support input requests.\"\u001b[0m\u001b[0;34m\u001b[0m\u001b[0;34m\u001b[0m\u001b[0m\n\u001b[1;32m    850\u001b[0m             )\n\u001b[0;32m--> 851\u001b[0;31m         return self._input_request(str(prompt),\n\u001b[0m\u001b[1;32m    852\u001b[0m             \u001b[0mself\u001b[0m\u001b[0;34m.\u001b[0m\u001b[0m_parent_ident\u001b[0m\u001b[0;34m,\u001b[0m\u001b[0;34m\u001b[0m\u001b[0;34m\u001b[0m\u001b[0m\n\u001b[1;32m    853\u001b[0m             \u001b[0mself\u001b[0m\u001b[0;34m.\u001b[0m\u001b[0m_parent_header\u001b[0m\u001b[0;34m,\u001b[0m\u001b[0;34m\u001b[0m\u001b[0;34m\u001b[0m\u001b[0m\n",
            "\u001b[0;32m/usr/local/lib/python3.10/dist-packages/ipykernel/kernelbase.py\u001b[0m in \u001b[0;36m_input_request\u001b[0;34m(self, prompt, ident, parent, password)\u001b[0m\n\u001b[1;32m    893\u001b[0m             \u001b[0;32mexcept\u001b[0m \u001b[0mKeyboardInterrupt\u001b[0m\u001b[0;34m:\u001b[0m\u001b[0;34m\u001b[0m\u001b[0;34m\u001b[0m\u001b[0m\n\u001b[1;32m    894\u001b[0m                 \u001b[0;31m# re-raise KeyboardInterrupt, to truncate traceback\u001b[0m\u001b[0;34m\u001b[0m\u001b[0;34m\u001b[0m\u001b[0m\n\u001b[0;32m--> 895\u001b[0;31m                 \u001b[0;32mraise\u001b[0m \u001b[0mKeyboardInterrupt\u001b[0m\u001b[0;34m(\u001b[0m\u001b[0;34m\"Interrupted by user\"\u001b[0m\u001b[0;34m)\u001b[0m \u001b[0;32mfrom\u001b[0m \u001b[0;32mNone\u001b[0m\u001b[0;34m\u001b[0m\u001b[0;34m\u001b[0m\u001b[0m\n\u001b[0m\u001b[1;32m    896\u001b[0m             \u001b[0;32mexcept\u001b[0m \u001b[0mException\u001b[0m \u001b[0;32mas\u001b[0m \u001b[0me\u001b[0m\u001b[0;34m:\u001b[0m\u001b[0;34m\u001b[0m\u001b[0;34m\u001b[0m\u001b[0m\n\u001b[1;32m    897\u001b[0m                 \u001b[0mself\u001b[0m\u001b[0;34m.\u001b[0m\u001b[0mlog\u001b[0m\u001b[0;34m.\u001b[0m\u001b[0mwarning\u001b[0m\u001b[0;34m(\u001b[0m\u001b[0;34m\"Invalid Message:\"\u001b[0m\u001b[0;34m,\u001b[0m \u001b[0mexc_info\u001b[0m\u001b[0;34m=\u001b[0m\u001b[0;32mTrue\u001b[0m\u001b[0;34m)\u001b[0m\u001b[0;34m\u001b[0m\u001b[0;34m\u001b[0m\u001b[0m\n",
            "\u001b[0;31mKeyboardInterrupt\u001b[0m: Interrupted by user"
          ]
        }
      ]
    },
    {
      "cell_type": "code",
      "source": [
        "#Write a program to print multiples of 2 in given list?\n",
        "#list = [1,2,3,4,5,6,7,8,9,10]\n",
        "#Expected output [2,4,6,8,10,12,14,16,18,20]"
      ],
      "metadata": {
        "id": "-SFcq5dJmofy"
      },
      "execution_count": null,
      "outputs": []
    },
    {
      "cell_type": "markdown",
      "source": [
        "#For loop"
      ],
      "metadata": {
        "id": "n5h1GS0XuHk0"
      }
    },
    {
      "cell_type": "code",
      "source": [
        "#Write a program to print the multiples of 2\n",
        "\n",
        "list = [1,2,3,4,5,6,7,8,9,10]\n",
        "for i in list:\n",
        "  print(i * 2)"
      ],
      "metadata": {
        "id": "1V0kLlBauADp"
      },
      "execution_count": null,
      "outputs": []
    },
    {
      "cell_type": "code",
      "source": [
        "\n",
        "\n",
        "a = \"hello world\"\n",
        "for i in a:\n",
        "  print(i, sep = \"\\n\")"
      ],
      "metadata": {
        "colab": {
          "base_uri": "https://localhost:8080/"
        },
        "id": "SV-bTcFwuAAE",
        "outputId": "6a37bf5e-636d-4591-a44a-8913db8a98dd"
      },
      "execution_count": null,
      "outputs": [
        {
          "output_type": "stream",
          "name": "stdout",
          "text": [
            "h\n",
            "e\n",
            "l\n",
            "l\n",
            "o\n",
            " \n",
            "w\n",
            "o\n",
            "r\n",
            "l\n",
            "d\n"
          ]
        }
      ]
    },
    {
      "cell_type": "code",
      "source": [
        "#What is break and continue?\n",
        "#Breaks :- Stops the loops\n",
        "#Continue :- skip the current iteration\n",
        "\n",
        "num = [1,2,3,4,5,6]\n",
        "for i in num:\n",
        "  if i == 6:\n",
        "    break\n",
        "  print(i)\n",
        "#Note : When you use print with if then it should be parllel to if only."
      ],
      "metadata": {
        "colab": {
          "base_uri": "https://localhost:8080/"
        },
        "id": "uqCgQFPqt_9e",
        "outputId": "a8979e71-8bd6-4b18-a04d-d6debe62a22a"
      },
      "execution_count": null,
      "outputs": [
        {
          "output_type": "stream",
          "name": "stdout",
          "text": [
            "1\n",
            "2\n",
            "3\n",
            "4\n",
            "5\n"
          ]
        }
      ]
    },
    {
      "cell_type": "code",
      "source": [
        "#What is break and continue?\n",
        "#Breaks :- Stops the loops\n",
        "#Continue :- skip the current iteration\n",
        "\n",
        "num = [1,2,3,4,5,6]\n",
        "for i in num:\n",
        "  if i == 10:\n",
        "    break\n",
        "  print(i)"
      ],
      "metadata": {
        "colab": {
          "base_uri": "https://localhost:8080/"
        },
        "id": "hXzWYLW3t_6N",
        "outputId": "5f4f6f44-d833-4de9-c9ba-341446a4afc3"
      },
      "execution_count": null,
      "outputs": [
        {
          "output_type": "stream",
          "name": "stdout",
          "text": [
            "1\n",
            "2\n",
            "3\n",
            "4\n",
            "5\n",
            "6\n"
          ]
        }
      ]
    },
    {
      "cell_type": "code",
      "source": [
        "#What is break and continue?\n",
        "#Breaks :- Stops the loops\n",
        "#Continue :- skip the current iteration\n",
        "\n",
        "num = [1,2,3,4,5,6]\n",
        "for i in num:\n",
        "  if i < 6:\n",
        "    break\n",
        "  print(i)"
      ],
      "metadata": {
        "id": "3YEMccXkt_35"
      },
      "execution_count": null,
      "outputs": []
    },
    {
      "cell_type": "code",
      "source": [
        "#What is break and continue?\n",
        "#Breaks :- Stops the loops\n",
        "#Continue :- skip the current iteration\n",
        "\n",
        "num = [1,2,3,4,5,6]\n",
        "for i in num:\n",
        "  if i > 3:\n",
        "    continue\n",
        "  print(i)"
      ],
      "metadata": {
        "colab": {
          "base_uri": "https://localhost:8080/"
        },
        "id": "Sd8vRgXjxvg_",
        "outputId": "54941fad-441f-4f72-f46f-7d50d1bce9e2"
      },
      "execution_count": null,
      "outputs": [
        {
          "output_type": "stream",
          "name": "stdout",
          "text": [
            "1\n",
            "2\n",
            "3\n"
          ]
        }
      ]
    },
    {
      "cell_type": "code",
      "source": [
        "num1 = [10,20,30,40,50,60,70,80,90]\n",
        "for i in num1:\n",
        "  if i == 20 or i == 40 or i == 70:\n",
        "    continue\n",
        "  print(i)"
      ],
      "metadata": {
        "colab": {
          "base_uri": "https://localhost:8080/"
        },
        "id": "lFIcFOa8xvb7",
        "outputId": "8121438c-7c45-4613-a350-02723d54ddbb"
      },
      "execution_count": null,
      "outputs": [
        {
          "output_type": "stream",
          "name": "stdout",
          "text": [
            "10\n",
            "30\n",
            "50\n",
            "60\n",
            "80\n",
            "90\n"
          ]
        }
      ]
    },
    {
      "cell_type": "markdown",
      "source": [
        "#Using range function in loops"
      ],
      "metadata": {
        "id": "0GBA3fOk0my7"
      }
    },
    {
      "cell_type": "code",
      "source": [
        "#Range(start)\n",
        "#Print numbers from 1 to 10"
      ],
      "metadata": {
        "id": "TJNBLValxvab"
      },
      "execution_count": null,
      "outputs": []
    },
    {
      "cell_type": "code",
      "source": [
        "i = 0\n",
        "while i < 10:\n",
        "  i = i + 1\n",
        "  print (i)"
      ],
      "metadata": {
        "colab": {
          "base_uri": "https://localhost:8080/"
        },
        "id": "dC8bRIYvxvWW",
        "outputId": "fb52c52d-3623-478f-a04b-7e61b6eb8258"
      },
      "execution_count": null,
      "outputs": [
        {
          "output_type": "stream",
          "name": "stdout",
          "text": [
            "1\n",
            "2\n",
            "3\n",
            "4\n",
            "5\n",
            "6\n",
            "7\n",
            "8\n",
            "9\n",
            "10\n"
          ]
        }
      ]
    },
    {
      "cell_type": "code",
      "source": [
        "for i in range(20):\n",
        "  print(i)"
      ],
      "metadata": {
        "colab": {
          "base_uri": "https://localhost:8080/"
        },
        "id": "RzREKYLTxvUg",
        "outputId": "2b1cb379-3b10-4199-a348-614bd77cdfe1"
      },
      "execution_count": null,
      "outputs": [
        {
          "output_type": "stream",
          "name": "stdout",
          "text": [
            "0\n",
            "1\n",
            "2\n",
            "3\n",
            "4\n",
            "5\n",
            "6\n",
            "7\n",
            "8\n",
            "9\n",
            "10\n",
            "11\n",
            "12\n",
            "13\n",
            "14\n",
            "15\n",
            "16\n",
            "17\n",
            "18\n",
            "19\n"
          ]
        }
      ]
    },
    {
      "cell_type": "code",
      "source": [
        "for i in range(int(input(\"Enter a number : \"))):\n",
        "  print(i + 1)"
      ],
      "metadata": {
        "colab": {
          "base_uri": "https://localhost:8080/"
        },
        "id": "2808KjVAxvOE",
        "outputId": "f4357973-0842-4d15-da8f-121b8d159912"
      },
      "execution_count": null,
      "outputs": [
        {
          "output_type": "stream",
          "name": "stdout",
          "text": [
            "Enter a number : 8\n",
            "1\n",
            "2\n",
            "3\n",
            "4\n",
            "5\n",
            "6\n",
            "7\n",
            "8\n"
          ]
        }
      ]
    },
    {
      "cell_type": "code",
      "source": [
        " a = int(input(\"Enter a number : \"))\n",
        " for i in range(1, a + 1):\n",
        "  print(i)"
      ],
      "metadata": {
        "colab": {
          "base_uri": "https://localhost:8080/"
        },
        "id": "jViygt1z2Ay6",
        "outputId": "a25fac8c-31e5-4850-ac43-11c6e32761d6"
      },
      "execution_count": null,
      "outputs": [
        {
          "output_type": "stream",
          "name": "stdout",
          "text": [
            "Enter a number : 5\n",
            "1\n",
            "2\n",
            "3\n",
            "4\n",
            "5\n"
          ]
        }
      ]
    },
    {
      "cell_type": "code",
      "source": [
        "#If i want the number starts from 2 and till user given input:\n",
        "#Range(start,end)\n",
        "a = int(input())\n",
        "for i in range(2,a):\n",
        "  print(i)\n"
      ],
      "metadata": {
        "colab": {
          "base_uri": "https://localhost:8080/"
        },
        "id": "IwyRoXzn2Axd",
        "outputId": "f6e23aba-9515-4314-f207-26b1457fbdfb"
      },
      "execution_count": null,
      "outputs": [
        {
          "output_type": "stream",
          "name": "stdout",
          "text": [
            "5\n",
            "2\n",
            "3\n",
            "4\n"
          ]
        }
      ]
    },
    {
      "cell_type": "code",
      "source": [
        "a = int(input(\"Enter a number : \"))\n",
        " for i in range(1, a + 1):\n",
        "  print(i)"
      ],
      "metadata": {
        "colab": {
          "base_uri": "https://localhost:8080/"
        },
        "outputId": "a25fac8c-31e5-4850-ac43-11c6e32761d6",
        "id": "IXHSa-973HXG"
      },
      "execution_count": null,
      "outputs": [
        {
          "output_type": "stream",
          "name": "stdout",
          "text": [
            "Enter a number : 5\n",
            "1\n",
            "2\n",
            "3\n",
            "4\n",
            "5\n"
          ]
        }
      ]
    },
    {
      "cell_type": "code",
      "source": [
        "for i in range(0,10,2):\n",
        "  print(i)"
      ],
      "metadata": {
        "colab": {
          "base_uri": "https://localhost:8080/"
        },
        "id": "5-pLcw-V3BlM",
        "outputId": "76714d36-ff83-44af-a20f-96cfb339f5bc"
      },
      "execution_count": null,
      "outputs": [
        {
          "output_type": "stream",
          "name": "stdout",
          "text": [
            "0\n",
            "2\n",
            "4\n",
            "6\n",
            "8\n"
          ]
        }
      ]
    },
    {
      "cell_type": "code",
      "source": [
        "for i in range(0,1,2):\n",
        "  print(i)"
      ],
      "metadata": {
        "colab": {
          "base_uri": "https://localhost:8080/"
        },
        "id": "C1h5UpzV3UzP",
        "outputId": "717ef3ae-6160-4118-df1f-ccc4ab5b0064"
      },
      "execution_count": null,
      "outputs": [
        {
          "output_type": "stream",
          "name": "stdout",
          "text": [
            "0\n"
          ]
        }
      ]
    },
    {
      "cell_type": "code",
      "source": [
        "for i in range(0,10,3):\n",
        "  print(i)"
      ],
      "metadata": {
        "colab": {
          "base_uri": "https://localhost:8080/"
        },
        "id": "0FUdf1KF3juh",
        "outputId": "3805e242-6c90-47b5-d5d9-fd1cfa457993"
      },
      "execution_count": null,
      "outputs": [
        {
          "output_type": "stream",
          "name": "stdout",
          "text": [
            "0\n",
            "3\n",
            "6\n",
            "9\n"
          ]
        }
      ]
    },
    {
      "cell_type": "code",
      "source": [
        "#Write a program to print the range of odd numbers from user input()?\n",
        "\n"
      ],
      "metadata": {
        "id": "hdjZoR8c4Fzz"
      },
      "execution_count": null,
      "outputs": []
    },
    {
      "cell_type": "markdown",
      "source": [
        "#Day-5(15-06-2024)"
      ],
      "metadata": {
        "id": "wgykLd-FzIbR"
      }
    },
    {
      "cell_type": "markdown",
      "source": [
        "#Day-6(20-06-2024)"
      ],
      "metadata": {
        "id": "18XJnDGSQaEM"
      }
    },
    {
      "cell_type": "markdown",
      "source": [
        "#Collections"
      ],
      "metadata": {
        "id": "G8BnHU-FRfuH"
      }
    },
    {
      "cell_type": "code",
      "source": [
        "#There are only 4 types of collections:-\n",
        "#1. list\n",
        "#2. tuples\n",
        "#3. set\n",
        "#4. dictionary"
      ],
      "metadata": {
        "id": "rqxmGR3fzOjM"
      },
      "execution_count": null,
      "outputs": []
    },
    {
      "cell_type": "markdown",
      "source": [
        "# 1 . List"
      ],
      "metadata": {
        "id": "7JrhzVwjR_T9"
      }
    },
    {
      "cell_type": "code",
      "source": [
        "#What is a list:-\n",
        "#It can be created using square brackets\n",
        "#And they are ordered, allows duplicates, mutable(changable)\n",
        "#example:-\n",
        "\n",
        "l1 = ['apple','banana','mango','strawberry','Blueberry']\n",
        "print(l1)\n",
        "print(type(l1))"
      ],
      "metadata": {
        "id": "z_Vr6dLKzVW2",
        "colab": {
          "base_uri": "https://localhost:8080/"
        },
        "outputId": "631bbf8d-af82-4e19-899d-9ef9126c5365"
      },
      "execution_count": null,
      "outputs": [
        {
          "output_type": "stream",
          "name": "stdout",
          "text": [
            "['apple', 'banana', 'mango', 'strawberry', 'Blueberry']\n",
            "<class 'list'>\n"
          ]
        }
      ]
    },
    {
      "cell_type": "code",
      "source": [
        "#What can be storedo in a list?\n",
        "#Example:-\n",
        "l2 = ['True','False','True','False']\n",
        "print(l2)\n",
        "print(type(l2))\n",
        "\n",
        "l3 = [1,2,3,4,5,6,7,8,9]\n",
        "print(l3)\n",
        "print(type(l3))\n",
        "\n",
        "#Homo and Hetrogenius data\n",
        "#If we have differnet\n",
        "print(\"-----------------------\")\n",
        "print(type(l1),type(l2),type(l3),sep = \"\\n\")"
      ],
      "metadata": {
        "id": "ZYO5v5FpzVVK",
        "colab": {
          "base_uri": "https://localhost:8080/"
        },
        "outputId": "6eee0e97-c00d-4e62-d35c-8d20b08d1743"
      },
      "execution_count": null,
      "outputs": [
        {
          "output_type": "stream",
          "name": "stdout",
          "text": [
            "['True', 'False', 'True', 'False']\n",
            "<class 'list'>\n",
            "[1, 2, 3, 4, 5, 6, 7, 8, 9]\n",
            "<class 'list'>\n",
            "-----------------------\n",
            "<class 'list'>\n",
            "<class 'list'>\n",
            "<class 'list'>\n"
          ]
        }
      ]
    },
    {
      "cell_type": "code",
      "source": [
        "#List allows duplicates:- means it will print duplicate values also.\n",
        "#Example:-\n",
        "\n",
        "l1 = ['apple','banana','mango','strawberry','Blueberry','apple','banana','grapes']\n",
        "print(l1)\n"
      ],
      "metadata": {
        "colab": {
          "base_uri": "https://localhost:8080/"
        },
        "id": "bTYQdVxiS5yG",
        "outputId": "374b3671-81d7-4f50-93c0-d765f9645841"
      },
      "execution_count": null,
      "outputs": [
        {
          "output_type": "stream",
          "name": "stdout",
          "text": [
            "['apple', 'banana', 'mango', 'strawberry', 'Blueberry', 'apple', 'banana', 'grapes']\n"
          ]
        }
      ]
    },
    {
      "cell_type": "code",
      "source": [
        "#** Lists are ordered.\n",
        "#What is 'ordered'?\n",
        "#Ordered means we can acces each and every element in list by using indexing and position numbers?\n",
        "l1 = ['apple','banana','mango','strawberry','Blueberry','apple','banana','grapes']\n",
        "print(l1[0])\n",
        "print(l1[3:6])\n",
        "print(l1[::2])\n",
        "print(l1[::-1])"
      ],
      "metadata": {
        "colab": {
          "base_uri": "https://localhost:8080/"
        },
        "id": "_aTSKHHOSziq",
        "outputId": "d1a553b2-27c3-495a-8a91-9b752c870d22"
      },
      "execution_count": null,
      "outputs": [
        {
          "output_type": "stream",
          "name": "stdout",
          "text": [
            "apple\n",
            "['strawberry', 'Blueberry', 'apple']\n",
            "['apple', 'mango', 'Blueberry', 'banana']\n",
            "['grapes', 'banana', 'apple', 'Blueberry', 'strawberry', 'mango', 'banana', 'apple']\n"
          ]
        }
      ]
    },
    {
      "cell_type": "code",
      "source": [
        "#Lists are mutable:- means we can change the things\n",
        "#How you can say a collection is mutable?\n",
        "#Depending on 3 properties we can say a collection is mutable\n",
        "#1. swapping  \"a--->b and b ---> a\"\n",
        "#2. Adding\n",
        "#3. Removing or deleting"
      ],
      "metadata": {
        "id": "1WIGa9kfSzhW"
      },
      "execution_count": null,
      "outputs": []
    },
    {
      "cell_type": "code",
      "source": [
        "l1 = ['apple','banana','mango','strawberry','Blueberry','apple','banana','grapes']\n",
        "l1[0] = 'orange'\n",
        "print(l1)"
      ],
      "metadata": {
        "colab": {
          "base_uri": "https://localhost:8080/"
        },
        "id": "GgFoDDXcWk0f",
        "outputId": "754b9b99-5a35-470e-bbfd-7ff6d5474410"
      },
      "execution_count": null,
      "outputs": [
        {
          "output_type": "stream",
          "name": "stdout",
          "text": [
            "['orange', 'banana', 'mango', 'strawberry', 'Blueberry', 'apple', 'banana', 'grapes']\n"
          ]
        }
      ]
    },
    {
      "cell_type": "code",
      "source": [
        "#---> Swap(Replace) the elements from 1 to 4?\n",
        "\n",
        "l1[1:4] = ['blackberry','kiwi','ball']\n",
        "print(l1)"
      ],
      "metadata": {
        "colab": {
          "base_uri": "https://localhost:8080/"
        },
        "id": "yG1irPXyWkwH",
        "outputId": "c042ea8c-1c6e-41f5-b8f8-6e4766875322"
      },
      "execution_count": null,
      "outputs": [
        {
          "output_type": "stream",
          "name": "stdout",
          "text": [
            "['apple', 'blackberry', 'kiwi', 'ball', 'apple', 'banana', 'grapes']\n"
          ]
        }
      ]
    },
    {
      "cell_type": "code",
      "source": [
        "#Adding (3 types)\n",
        "#1.Append : - adding extra element at the end of the list\n",
        "\n",
        "l1 = ['apple','banana','mango','strawberry','Blueberry','apple','banana','grapes']\n",
        "l1.append('orange')\n",
        "print(l1)\n",
        "\n",
        "#what is the default position of append? - end position in list\n",
        "l1 = ['apple','banana','mango','strawberry','Blueberry','apple','banana','grapes']\n",
        "#Can we add more then 1 elements with append? - No, it takes only one argument\n",
        "l1.append('mango')\n",
        "print(l1)"
      ],
      "metadata": {
        "colab": {
          "base_uri": "https://localhost:8080/"
        },
        "id": "06vL7VqfWkup",
        "outputId": "c52347a3-33ca-42ca-b07e-e9fb289f464f"
      },
      "execution_count": null,
      "outputs": [
        {
          "output_type": "stream",
          "name": "stdout",
          "text": [
            "['apple', 'banana', 'mango', 'strawberry', 'Blueberry', 'apple', 'banana', 'grapes', 'orange']\n",
            "['apple', 'banana', 'mango', 'strawberry', 'Blueberry', 'apple', 'banana', 'grapes', 'mango']\n"
          ]
        }
      ]
    },
    {
      "cell_type": "code",
      "source": [
        "#2.If we want to  insert any element in any position - we should use insert\n",
        "l1 = ['apple','banana','mango','strawberry','Blueberry','apple','banana','grapes']\n",
        "l1.insert(2,'orange')\n",
        "print(l1)"
      ],
      "metadata": {
        "colab": {
          "base_uri": "https://localhost:8080/"
        },
        "id": "FTP3aUSGZUrH",
        "outputId": "904df25e-7fb2-4b99-9ed4-286c319d5278"
      },
      "execution_count": null,
      "outputs": [
        {
          "output_type": "stream",
          "name": "stdout",
          "text": [
            "['apple', 'banana', 'orange', 'mango', 'strawberry', 'Blueberry', 'apple', 'banana', 'grapes']\n"
          ]
        }
      ]
    },
    {
      "cell_type": "code",
      "source": [
        "l1 = ['apple','banana','mango','strawberry','Blueberry','apple','banana','grapes']\n",
        "l1.insert(5,'kiwi')\n",
        "print(l1)"
      ],
      "metadata": {
        "colab": {
          "base_uri": "https://localhost:8080/"
        },
        "id": "vgBK1mvlZUYH",
        "outputId": "a939f14b-3dea-4142-8561-bea26340a4d2"
      },
      "execution_count": null,
      "outputs": [
        {
          "output_type": "stream",
          "name": "stdout",
          "text": [
            "['apple', 'banana', 'mango', 'strawberry', 'Blueberry', 'kiwi', 'apple', 'banana', 'grapes']\n"
          ]
        }
      ]
    },
    {
      "cell_type": "code",
      "source": [
        "#3.Extend method :- If we want to add items from the other collections then we should use 'extend'\n",
        "\n",
        "l2 = [1,2,3,4,5,6,7,8,9,10]\n",
        "l1.extend(l2)\n",
        "print(l1)"
      ],
      "metadata": {
        "colab": {
          "base_uri": "https://localhost:8080/"
        },
        "id": "XGOQL_XdaRK3",
        "outputId": "fdacf1ee-3d63-43d8-f710-f888a1244df0"
      },
      "execution_count": null,
      "outputs": [
        {
          "output_type": "stream",
          "name": "stdout",
          "text": [
            "['apple', 'banana', 'orange', 'mango', 'strawberry', 'Blueberry', 'apple', 'banana', 'grapes', 1, 2, 3, 4, 5, 6, 7, 8, 9, 10]\n"
          ]
        }
      ]
    },
    {
      "cell_type": "code",
      "source": [
        "#I want to insert another collection at particular index?\n",
        "\n",
        "l3 = ['python','java','c++']\n",
        "l1 = ['apple','banana','mango','strawberry','Blueberry','apple','banana','grapes']\n",
        "l1.insert(2,l3)\n",
        "print(l1)\n",
        "\n",
        "\n",
        "#Insert,extend,append(for adding elements)"
      ],
      "metadata": {
        "colab": {
          "base_uri": "https://localhost:8080/"
        },
        "id": "87MhmASqSzd4",
        "outputId": "f7877d3d-1a6b-49d6-a894-2aed7b505e81"
      },
      "execution_count": null,
      "outputs": [
        {
          "output_type": "stream",
          "name": "stdout",
          "text": [
            "['apple', 'banana', ['python', 'java', 'c++'], 'mango', 'strawberry', 'Blueberry', 'apple', 'banana', 'grapes']\n"
          ]
        }
      ]
    },
    {
      "cell_type": "code",
      "source": [
        "#If i want to grab only python from given list:-\n",
        "\n",
        "l1 = ['apple', 'banana', ['python', 'java', 'c++'], 'mango', 'strawberry', 'Blueberry', 'apple', 'banana', 'grapes']\n",
        "print(l1[2][0])"
      ],
      "metadata": {
        "colab": {
          "base_uri": "https://localhost:8080/"
        },
        "id": "2tsqMRSwatgi",
        "outputId": "d5bf1c15-ab0e-44fa-bb4a-5fdcaf9604d4"
      },
      "execution_count": null,
      "outputs": [
        {
          "output_type": "stream",
          "name": "stdout",
          "text": [
            "python\n"
          ]
        }
      ]
    },
    {
      "cell_type": "code",
      "source": [
        "#1.removing of elemsts in a list? [4 types]\n",
        "#1.remove(item or index position number)\n",
        "l1 = ['apple','banana','mango','strawberry','Blueberry','apple','banana','grapes']\n",
        "l1.remove('banana')\n",
        "print(l1)"
      ],
      "metadata": {
        "colab": {
          "base_uri": "https://localhost:8080/"
        },
        "id": "LD5jB75fatb6",
        "outputId": "8a026b68-72c5-4a65-c168-2c77e1600f73"
      },
      "execution_count": null,
      "outputs": [
        {
          "output_type": "stream",
          "name": "stdout",
          "text": [
            "['apple', 'mango', 'strawberry', 'Blueberry', 'apple', 'banana', 'grapes']\n"
          ]
        }
      ]
    },
    {
      "cell_type": "code",
      "source": [
        "l1 = ['apple','banana','mango','strawberry','Blueberry','apple','banana','grapes']\n",
        "l1.remove(l1[1])\n",
        "print(l1)"
      ],
      "metadata": {
        "colab": {
          "base_uri": "https://localhost:8080/"
        },
        "id": "zmjmZxwCatan",
        "outputId": "54610d09-a988-4e25-cb02-70cea61a1b18"
      },
      "execution_count": null,
      "outputs": [
        {
          "output_type": "stream",
          "name": "stdout",
          "text": [
            "['apple', 'mango', 'strawberry', 'Blueberry', 'apple', 'banana', 'grapes']\n"
          ]
        }
      ]
    },
    {
      "cell_type": "code",
      "source": [
        "#2.pop\n",
        "#Syntac---- > Pop --> pop(index)\n",
        "#Using pop we should only use index\n",
        "l1 = ['apple','banana','mango','strawberry','Blueberry','grapes','@','$$']\n",
        "l1.pop(1)\n",
        "print(l1)\n"
      ],
      "metadata": {
        "colab": {
          "base_uri": "https://localhost:8080/"
        },
        "id": "A5pGKK2qatXN",
        "outputId": "67a33a7e-67cc-441f-f552-34219a8bcc28"
      },
      "execution_count": null,
      "outputs": [
        {
          "output_type": "stream",
          "name": "stdout",
          "text": [
            "['apple', 'mango', 'strawberry', 'Blueberry', 'grapes', '@', '$$']\n"
          ]
        }
      ]
    },
    {
      "cell_type": "code",
      "source": [
        "#3.Delete\n",
        "#Syntax ----> del 'collection_name[index_position_num]'\n",
        "l1 = ['apple','banana','mango','strawberry','Blueberry','grapes','@','$$']\n",
        "del l1[2]\n",
        "print(l1)\n"
      ],
      "metadata": {
        "colab": {
          "base_uri": "https://localhost:8080/"
        },
        "id": "Tc8ucVuHatVs",
        "outputId": "1c904c9a-d8dd-4945-993d-ba50f2420d0a"
      },
      "execution_count": null,
      "outputs": [
        {
          "output_type": "stream",
          "name": "stdout",
          "text": [
            "['apple', 'banana', 'strawberry', 'Blueberry', 'grapes', '@', '$$']\n"
          ]
        }
      ]
    },
    {
      "cell_type": "code",
      "source": [
        "del l1\n",
        "print(l1)"
      ],
      "metadata": {
        "colab": {
          "base_uri": "https://localhost:8080/",
          "height": 162
        },
        "id": "bZxmFkObgq4y",
        "outputId": "3ad2f0e1-c73c-4beb-debf-5ec1462ee625"
      },
      "execution_count": null,
      "outputs": [
        {
          "output_type": "error",
          "ename": "NameError",
          "evalue": "name 'l1' is not defined",
          "traceback": [
            "\u001b[0;31m---------------------------------------------------------------------------\u001b[0m",
            "\u001b[0;31mNameError\u001b[0m                                 Traceback (most recent call last)",
            "\u001b[0;32m<ipython-input-69-ce30788c23bc>\u001b[0m in \u001b[0;36m<cell line: 1>\u001b[0;34m()\u001b[0m\n\u001b[0;32m----> 1\u001b[0;31m \u001b[0;32mdel\u001b[0m \u001b[0ml1\u001b[0m\u001b[0;34m\u001b[0m\u001b[0;34m\u001b[0m\u001b[0m\n\u001b[0m\u001b[1;32m      2\u001b[0m \u001b[0mprint\u001b[0m\u001b[0;34m(\u001b[0m\u001b[0ml1\u001b[0m\u001b[0;34m)\u001b[0m\u001b[0;34m\u001b[0m\u001b[0;34m\u001b[0m\u001b[0m\n",
            "\u001b[0;31mNameError\u001b[0m: name 'l1' is not defined"
          ]
        }
      ]
    },
    {
      "cell_type": "code",
      "source": [
        "#4.clear(If we use clear, then output will be empty list)\n",
        "l1.clear()\n",
        "print(l1)"
      ],
      "metadata": {
        "colab": {
          "base_uri": "https://localhost:8080/"
        },
        "id": "jBOgnG9oSzca",
        "outputId": "8a7b58d0-d3af-447c-aec3-3134cb0c2ea0"
      },
      "execution_count": null,
      "outputs": [
        {
          "output_type": "stream",
          "name": "stdout",
          "text": [
            "[]\n"
          ]
        }
      ]
    },
    {
      "cell_type": "markdown",
      "source": [
        "#2 . Tuple"
      ],
      "metadata": {
        "id": "NhPcFd5Zg02P"
      }
    },
    {
      "cell_type": "code",
      "source": [
        "#What is tuple? --  > ()\n",
        "#Tuples are ordered\n",
        "#Immutable(non changable),allows duplicates\n",
        "#Example:-\n",
        "\n",
        "t1 = ('apple','banana','mango','strawberry','Blueberry','grapes')\n",
        "print(t1)\n",
        "print(type(t1))"
      ],
      "metadata": {
        "colab": {
          "base_uri": "https://localhost:8080/"
        },
        "id": "-8Crcxkog3fB",
        "outputId": "3240b231-a41b-40e7-81da-b4c8aed7920b"
      },
      "execution_count": null,
      "outputs": [
        {
          "output_type": "stream",
          "name": "stdout",
          "text": [
            "('apple', 'banana', 'mango', 'strawberry', 'Blueberry', 'grapes')\n",
            "<class 'tuple'>\n"
          ]
        }
      ]
    },
    {
      "cell_type": "code",
      "source": [
        "#Tuples allows duplicates\n",
        "#Example-\n",
        "t1 = ('apple','banana','mango','strawberry','Blueberry','apple','banana','grapes')\n",
        "print(t1)\n"
      ],
      "metadata": {
        "colab": {
          "base_uri": "https://localhost:8080/"
        },
        "id": "L4S3Y9kQg3dq",
        "outputId": "724ee330-b3d2-4fc6-d3ba-e12b9de0215e"
      },
      "execution_count": null,
      "outputs": [
        {
          "output_type": "stream",
          "name": "stdout",
          "text": [
            "('apple', 'banana', 'mango', 'strawberry', 'Blueberry', 'apple', 'banana', 'grapes')\n"
          ]
        }
      ]
    },
    {
      "cell_type": "code",
      "source": [
        "#Tuples are ordered\n",
        "print(t1[3])\n",
        "print(t1[1:5])\n",
        "print(t1[::2])  #Even positions\n",
        "print(t1[::-1]) #Reverse"
      ],
      "metadata": {
        "colab": {
          "base_uri": "https://localhost:8080/"
        },
        "id": "TeZ3rhGhg3aP",
        "outputId": "2dde4c26-297c-4fd7-eacb-d261356458b2"
      },
      "execution_count": null,
      "outputs": [
        {
          "output_type": "stream",
          "name": "stdout",
          "text": [
            "strawberry\n",
            "('banana', 'mango', 'strawberry', 'Blueberry')\n",
            "('apple', 'mango', 'Blueberry', 'banana')\n",
            "('grapes', 'banana', 'apple', 'Blueberry', 'strawberry', 'mango', 'banana', 'apple')\n"
          ]
        }
      ]
    },
    {
      "cell_type": "code",
      "source": [
        "#Tuple is immutable:-\n",
        "\n",
        "\n",
        "#To convert tuples into the list\n",
        "t1 = (1,2,3,4,5,6,7)\n",
        "L = list(t1)\n",
        "print(L)\n"
      ],
      "metadata": {
        "colab": {
          "base_uri": "https://localhost:8080/"
        },
        "id": "JEDeZ9jni445",
        "outputId": "923640ae-070f-4a9c-cc28-eaac7e7ab76c"
      },
      "execution_count": null,
      "outputs": [
        {
          "output_type": "stream",
          "name": "stdout",
          "text": [
            "[1, 2, 3, 4, 5, 6, 7]\n"
          ]
        }
      ]
    },
    {
      "cell_type": "markdown",
      "source": [
        "# 3. Set --> {}"
      ],
      "metadata": {
        "id": "Ym0dneTNkvZ0"
      }
    },
    {
      "cell_type": "code",
      "source": [
        "#unordered, no duplicates, immutable\n",
        "\n",
        "\n",
        "s1 = {'apple','banana','mango','strawberry','Blueberry','grapes','apple','banana','grapes'}\n",
        "print(s1)\n",
        "print(type(s1))\n"
      ],
      "metadata": {
        "colab": {
          "base_uri": "https://localhost:8080/"
        },
        "id": "e8JMi_BNi40V",
        "outputId": "b61cd23a-4050-450f-c4ce-5783046ab1bd"
      },
      "execution_count": null,
      "outputs": [
        {
          "output_type": "stream",
          "name": "stdout",
          "text": [
            "{'apple', 'strawberry', 'Blueberry', 'grapes', 'banana', 'mango'}\n",
            "<class 'set'>\n"
          ]
        }
      ]
    },
    {
      "cell_type": "code",
      "source": [
        "#sets are unordered\n",
        "print(s1[0])"
      ],
      "metadata": {
        "colab": {
          "base_uri": "https://localhost:8080/",
          "height": 162
        },
        "id": "kShewAf2i4yn",
        "outputId": "4d3587b9-c4ce-4652-f03d-036b1e350057"
      },
      "execution_count": null,
      "outputs": [
        {
          "output_type": "error",
          "ename": "TypeError",
          "evalue": "'set' object is not subscriptable",
          "traceback": [
            "\u001b[0;31m---------------------------------------------------------------------------\u001b[0m",
            "\u001b[0;31mTypeError\u001b[0m                                 Traceback (most recent call last)",
            "\u001b[0;32m<ipython-input-86-273eb4722a2b>\u001b[0m in \u001b[0;36m<cell line: 2>\u001b[0;34m()\u001b[0m\n\u001b[1;32m      1\u001b[0m \u001b[0;31m#sets are unordered\u001b[0m\u001b[0;34m\u001b[0m\u001b[0;34m\u001b[0m\u001b[0m\n\u001b[0;32m----> 2\u001b[0;31m \u001b[0mprint\u001b[0m\u001b[0;34m(\u001b[0m\u001b[0ms1\u001b[0m\u001b[0;34m[\u001b[0m\u001b[0;36m0\u001b[0m\u001b[0;34m]\u001b[0m\u001b[0;34m)\u001b[0m\u001b[0;34m\u001b[0m\u001b[0;34m\u001b[0m\u001b[0m\n\u001b[0m",
            "\u001b[0;31mTypeError\u001b[0m: 'set' object is not subscriptable"
          ]
        }
      ]
    },
    {
      "cell_type": "code",
      "source": [
        "#immutable --->\n",
        "\n",
        "#why sets are immutable:-\n",
        "#In sets we can add new elements and items and we can remove the items but we can't swap(replace) because,\n",
        "#Sets doesn't have specific position, its unordered"
      ],
      "metadata": {
        "id": "1LLp6T_Ti4vG"
      },
      "execution_count": null,
      "outputs": []
    },
    {
      "cell_type": "code",
      "source": [
        "#ADD (adding,update)"
      ],
      "metadata": {
        "id": "XEwLFNvln86Y"
      },
      "execution_count": null,
      "outputs": []
    },
    {
      "cell_type": "code",
      "source": [
        "#1.Add items in sets\n",
        "s1 = {'dog', 'horse','hen','elephant'}\n",
        "s1.add('cow')\n",
        "print(s1)"
      ],
      "metadata": {
        "colab": {
          "base_uri": "https://localhost:8080/"
        },
        "id": "CH2eA5Afi4tJ",
        "outputId": "8508f129-4f7c-4f34-9026-578fe9e31349"
      },
      "execution_count": null,
      "outputs": [
        {
          "output_type": "stream",
          "name": "stdout",
          "text": [
            "{'dog', 'horse', 'cow', 'elephant', 'hen'}\n"
          ]
        }
      ]
    },
    {
      "cell_type": "code",
      "source": [
        "#2.Update method:- we can update other collection value in the taken set\n",
        "l = [1,2,3,4,5,6]\n",
        "s1.update(l)\n",
        "print(s1)\n"
      ],
      "metadata": {
        "colab": {
          "base_uri": "https://localhost:8080/"
        },
        "id": "RypzTr5wg3Ya",
        "outputId": "1f0f055c-0d0f-4d87-dc29-f6139b845325"
      },
      "execution_count": null,
      "outputs": [
        {
          "output_type": "stream",
          "name": "stdout",
          "text": [
            "{1, 2, 3, 'dog', 4, 5, 6, 'horse', 'cow', 'elephant', 'hen'}\n"
          ]
        }
      ]
    },
    {
      "cell_type": "code",
      "source": [
        "#Remove (remove,discard,pop)"
      ],
      "metadata": {
        "id": "6z8kFq1Kn6Xk"
      },
      "execution_count": null,
      "outputs": []
    },
    {
      "cell_type": "code",
      "source": [
        "#1.remove\n",
        "s1.remove('dog')\n",
        "print(s1)"
      ],
      "metadata": {
        "colab": {
          "base_uri": "https://localhost:8080/"
        },
        "id": "dPGDJ9Z6n6Vs",
        "outputId": "fc521254-e41f-4cd1-b0bc-58102a199ca9"
      },
      "execution_count": null,
      "outputs": [
        {
          "output_type": "stream",
          "name": "stdout",
          "text": [
            "{1, 2, 3, 4, 5, 6, 'horse', 'cow', 'elephant', 'hen'}\n"
          ]
        }
      ]
    },
    {
      "cell_type": "code",
      "source": [
        "#2.discard\n",
        "s1.discard('hen')\n",
        "print(s1)"
      ],
      "metadata": {
        "colab": {
          "base_uri": "https://localhost:8080/"
        },
        "id": "rIDoDTRkn6M8",
        "outputId": "3c5c2637-476e-43b3-9fd3-0e4f1ff580ae"
      },
      "execution_count": null,
      "outputs": [
        {
          "output_type": "stream",
          "name": "stdout",
          "text": [
            "{1, 2, 3, 4, 5, 6, 'horse', 'cow', 'elephant'}\n"
          ]
        }
      ]
    },
    {
      "cell_type": "code",
      "source": [
        "#3. pop\n",
        "s1.pop()\n",
        "print(s1)\n"
      ],
      "metadata": {
        "colab": {
          "base_uri": "https://localhost:8080/"
        },
        "id": "Z1VRxSSOe2ho",
        "outputId": "6f860f74-5788-4e1b-acbb-7c27bf4258bc"
      },
      "execution_count": null,
      "outputs": [
        {
          "output_type": "stream",
          "name": "stdout",
          "text": [
            "{3, 4, 5, 6, 'horse', 'cow', 'elephant'}\n"
          ]
        }
      ]
    },
    {
      "cell_type": "code",
      "source": [
        "#4. delete\n",
        "del s1\n",
        "print(s1)"
      ],
      "metadata": {
        "colab": {
          "base_uri": "https://localhost:8080/",
          "height": 180
        },
        "id": "nXyEHIuMojGR",
        "outputId": "d0bd75ba-d260-4131-c030-3b2ea7dec16d"
      },
      "execution_count": null,
      "outputs": [
        {
          "output_type": "error",
          "ename": "NameError",
          "evalue": "name 's1' is not defined",
          "traceback": [
            "\u001b[0;31m---------------------------------------------------------------------------\u001b[0m",
            "\u001b[0;31mNameError\u001b[0m                                 Traceback (most recent call last)",
            "\u001b[0;32m<ipython-input-103-14b88c39b2ca>\u001b[0m in \u001b[0;36m<cell line: 3>\u001b[0;34m()\u001b[0m\n\u001b[1;32m      1\u001b[0m \u001b[0;31m#4. delete\u001b[0m\u001b[0;34m\u001b[0m\u001b[0;34m\u001b[0m\u001b[0m\n\u001b[1;32m      2\u001b[0m \u001b[0;32mdel\u001b[0m \u001b[0ms1\u001b[0m\u001b[0;34m\u001b[0m\u001b[0;34m\u001b[0m\u001b[0m\n\u001b[0;32m----> 3\u001b[0;31m \u001b[0mprint\u001b[0m\u001b[0;34m(\u001b[0m\u001b[0ms1\u001b[0m\u001b[0;34m)\u001b[0m\u001b[0;34m\u001b[0m\u001b[0;34m\u001b[0m\u001b[0m\n\u001b[0m",
            "\u001b[0;31mNameError\u001b[0m: name 's1' is not defined"
          ]
        }
      ]
    },
    {
      "cell_type": "code",
      "source": [
        "#5. clear\n",
        "s1 = {1,2,3,4,5,6,7,8}\n",
        "s1.clear()\n",
        "print(s1)"
      ],
      "metadata": {
        "colab": {
          "base_uri": "https://localhost:8080/"
        },
        "id": "wsOGJgwco7AN",
        "outputId": "6c6e88e5-9f73-4017-a894-b1fe38f5464b"
      },
      "execution_count": null,
      "outputs": [
        {
          "output_type": "stream",
          "name": "stdout",
          "text": [
            "set()\n"
          ]
        }
      ]
    },
    {
      "cell_type": "code",
      "source": [
        "#What is the main reason of using set?\n",
        "\n",
        "s1 = {'a','b','c','d'}\n",
        "s2 = {'d','e','f','g'}\n",
        "s4 = s1.intersection(s2)\n",
        "print(s4)"
      ],
      "metadata": {
        "colab": {
          "base_uri": "https://localhost:8080/"
        },
        "id": "n6wBgEYhojEF",
        "outputId": "8c91d297-13ac-46f4-c2f2-a0be7e9b2c26"
      },
      "execution_count": null,
      "outputs": [
        {
          "output_type": "stream",
          "name": "stdout",
          "text": [
            "{'d'}\n"
          ]
        }
      ]
    },
    {
      "cell_type": "code",
      "source": [
        "s3 = s1.union(s2)\n",
        "print(s3)"
      ],
      "metadata": {
        "colab": {
          "base_uri": "https://localhost:8080/"
        },
        "id": "r4auFYTwp3fD",
        "outputId": "12849676-e711-4d12-836a-a00ce74c2973"
      },
      "execution_count": null,
      "outputs": [
        {
          "output_type": "stream",
          "name": "stdout",
          "text": [
            "{'d', 'b', 'e', 'a', 'c', 'g', 'f'}\n"
          ]
        }
      ]
    },
    {
      "cell_type": "markdown",
      "source": [
        "#Dictionary"
      ],
      "metadata": {
        "id": "JoIrpwe3cEye"
      }
    },
    {
      "cell_type": "code",
      "source": [
        "#Where we can store our items in a dictionary\n",
        "#--> We can store the items in a dictionary called \"key value pairs\"\n",
        "#--> Can be in --> {}\n",
        "#--> unordered, it won't allow duplicates\n",
        "#--> Values can be changable but keys can't change\n"
      ],
      "metadata": {
        "id": "6MPMKbmPqwXi"
      },
      "execution_count": null,
      "outputs": []
    },
    {
      "cell_type": "code",
      "source": [
        "d1 = {\n",
        "    \"name\" : \"python\",\n",
        "    \"last_name\" : \"programming\",\n",
        "    \"age\":29,\n",
        "    \"module\" : True\n",
        "}\n",
        "print(d1)\n",
        "print(type(d1))"
      ],
      "metadata": {
        "id": "uxVJ6WaVqwVH",
        "colab": {
          "base_uri": "https://localhost:8080/"
        },
        "outputId": "3d602abe-7bad-49f7-8916-a123e036e31a"
      },
      "execution_count": null,
      "outputs": [
        {
          "output_type": "stream",
          "name": "stdout",
          "text": [
            "{'name': 'python', 'last_name': 'programming', 'age': 29, 'module': True}\n",
            "<class 'dict'>\n"
          ]
        }
      ]
    },
    {
      "cell_type": "code",
      "source": [
        "#how can we print keys and values separetly:\n",
        "print(d1.keys())\n",
        "print(d1.values())"
      ],
      "metadata": {
        "colab": {
          "base_uri": "https://localhost:8080/"
        },
        "id": "3rthgrw_c6Hs",
        "outputId": "6e6aa5c0-8302-454f-cbe7-9679bb48cfd7"
      },
      "execution_count": null,
      "outputs": [
        {
          "output_type": "stream",
          "name": "stdout",
          "text": [
            "dict_keys(['name', 'last_name', 'age', 'module'])\n",
            "dict_values(['python', 'programming', 29, True])\n"
          ]
        }
      ]
    },
    {
      "cell_type": "code",
      "source": [
        "print(d1.items())"
      ],
      "metadata": {
        "colab": {
          "base_uri": "https://localhost:8080/"
        },
        "id": "2HiAblyKc6FK",
        "outputId": "5bf38067-a304-44e4-d1c0-8a75d49395b9"
      },
      "execution_count": null,
      "outputs": [
        {
          "output_type": "stream",
          "name": "stdout",
          "text": [
            "dict_items([('name', 'python'), ('last_name', 'programming'), ('age', 29), ('module', True)])\n"
          ]
        }
      ]
    },
    {
      "cell_type": "code",
      "source": [
        "#python is an interpreted language:\n",
        "#yes\n",
        "d1 = {\n",
        "    \"name\" : \"python\",\n",
        "    \"last_name\" : \"programming\",\n",
        "    \"age\":29,\n",
        "    \"module\" : True,\n",
        "    \"name\" : \"java\",\n",
        "    'age' : 50\n",
        "}\n",
        "print(d1)"
      ],
      "metadata": {
        "colab": {
          "base_uri": "https://localhost:8080/"
        },
        "id": "jiGgCHNdc6Cm",
        "outputId": "9dd6df94-3c22-48ed-dc17-7a538e2f2526"
      },
      "execution_count": null,
      "outputs": [
        {
          "output_type": "stream",
          "name": "stdout",
          "text": [
            "{'name': 'java', 'last_name': 'programming', 'age': 50, 'module': True}\n"
          ]
        }
      ]
    },
    {
      "cell_type": "code",
      "source": [
        "#Dict dont allow duplicates\n",
        "#yes\n",
        "\n",
        "d1 = {\n",
        "    \"name\" : \"python\",\n",
        "    \"last_name\" : \"programming\",\n",
        "    \"age\":29,\n",
        "    \"module\" : True,\n",
        "    \"name\" : \"java\",\n",
        "    'age' : 50\n",
        "}\n",
        "print(d1)"
      ],
      "metadata": {
        "colab": {
          "base_uri": "https://localhost:8080/"
        },
        "id": "DiKRyAOOc5_F",
        "outputId": "1a0ff567-e53e-48a3-db9e-6a8d76efc2e6"
      },
      "execution_count": null,
      "outputs": [
        {
          "output_type": "stream",
          "name": "stdout",
          "text": [
            "{'name': 'java', 'last_name': 'programming', 'age': 50, 'module': True}\n"
          ]
        }
      ]
    },
    {
      "cell_type": "code",
      "source": [
        "print(len(d1))"
      ],
      "metadata": {
        "colab": {
          "base_uri": "https://localhost:8080/"
        },
        "id": "hMrWkV_wc4kl",
        "outputId": "89068b38-01d8-40e7-cf88-30731697178b"
      },
      "execution_count": null,
      "outputs": [
        {
          "output_type": "stream",
          "name": "stdout",
          "text": [
            "4\n"
          ]
        }
      ]
    },
    {
      "cell_type": "code",
      "source": [
        "#dict is an unordered\n",
        "print(d1[0])"
      ],
      "metadata": {
        "colab": {
          "base_uri": "https://localhost:8080/",
          "height": 158
        },
        "id": "tMgNOOoOc4hF",
        "outputId": "d3cf6f49-d597-4bc8-8351-c255c0861f44"
      },
      "execution_count": null,
      "outputs": [
        {
          "output_type": "error",
          "ename": "KeyError",
          "evalue": "0",
          "traceback": [
            "\u001b[0;31m---------------------------------------------------------------------------\u001b[0m",
            "\u001b[0;31mKeyError\u001b[0m                                  Traceback (most recent call last)",
            "\u001b[0;32m<ipython-input-20-6e651474f5f9>\u001b[0m in \u001b[0;36m<cell line: 2>\u001b[0;34m()\u001b[0m\n\u001b[1;32m      1\u001b[0m \u001b[0;31m#dict is an unordered\u001b[0m\u001b[0;34m\u001b[0m\u001b[0;34m\u001b[0m\u001b[0m\n\u001b[0;32m----> 2\u001b[0;31m \u001b[0mprint\u001b[0m\u001b[0;34m(\u001b[0m\u001b[0md1\u001b[0m\u001b[0;34m[\u001b[0m\u001b[0;36m0\u001b[0m\u001b[0;34m]\u001b[0m\u001b[0;34m)\u001b[0m\u001b[0;34m\u001b[0m\u001b[0;34m\u001b[0m\u001b[0m\n\u001b[0m",
            "\u001b[0;31mKeyError\u001b[0m: 0"
          ]
        }
      ]
    },
    {
      "cell_type": "code",
      "source": [
        "#How can we acces elements from dictionary?\n",
        "#By using keys we can access the elemnts from dictionary\n",
        "\n",
        "print(d1['name'])\n",
        "print(d1.get('name'))"
      ],
      "metadata": {
        "colab": {
          "base_uri": "https://localhost:8080/"
        },
        "id": "t8FgeM4Yc4eK",
        "outputId": "3406d073-5a6f-4ab5-9e1c-40e3fbcf750a"
      },
      "execution_count": null,
      "outputs": [
        {
          "output_type": "stream",
          "name": "stdout",
          "text": [
            "java\n",
            "java\n"
          ]
        }
      ]
    },
    {
      "cell_type": "code",
      "source": [
        "#How can we change the values of particular keys?\n",
        "d1['name'] = 'c++'\n",
        "print(d1)"
      ],
      "metadata": {
        "colab": {
          "base_uri": "https://localhost:8080/"
        },
        "id": "bfKbUe1fc4ag",
        "outputId": "362b9a96-ba1c-46e2-8c64-4e6b9fa26bf9"
      },
      "execution_count": null,
      "outputs": [
        {
          "output_type": "stream",
          "name": "stdout",
          "text": [
            "{'name': 'c++', 'last_name': 'programming', 'age': 50, 'module': True}\n"
          ]
        }
      ]
    },
    {
      "cell_type": "code",
      "source": [
        "#update is also similar method we are using to update or replace values in dict?\n",
        "d1.update({'module' : 'yes'})\n",
        "print(d1)"
      ],
      "metadata": {
        "colab": {
          "base_uri": "https://localhost:8080/"
        },
        "id": "NoWJVsTgc4X7",
        "outputId": "b5121c7b-4b2d-4779-cb3c-1f5922d963e3"
      },
      "execution_count": null,
      "outputs": [
        {
          "output_type": "stream",
          "name": "stdout",
          "text": [
            "{'name': 'c++', 'last_name': 'programming', 'age': 50, 'module': 'yes'}\n"
          ]
        }
      ]
    },
    {
      "cell_type": "code",
      "source": [
        "#How can I add new elements into dictionary\n",
        "\n",
        "d1['typed'] = 'Dynamically typed'\n",
        "print(d1)\n",
        "#NOTE : if the input keys are present the value get updated and if it is not present then new key value pairs can be added"
      ],
      "metadata": {
        "colab": {
          "base_uri": "https://localhost:8080/"
        },
        "id": "sSstQ69lc4VH",
        "outputId": "dca659ed-a922-4373-c935-ba3442f86cdd"
      },
      "execution_count": null,
      "outputs": [
        {
          "output_type": "stream",
          "name": "stdout",
          "text": [
            "{'name': 'c++', 'last_name': 'programming', 'age': 50, 'module': 'yes', 'typed': 'Dynamically typed'}\n"
          ]
        }
      ]
    },
    {
      "cell_type": "code",
      "source": [
        "#how can we remove the items from dictionary:\n",
        "d1.pop('age')\n",
        "print(d1)"
      ],
      "metadata": {
        "colab": {
          "base_uri": "https://localhost:8080/"
        },
        "id": "hZnbUrTkc4Sk",
        "outputId": "08c8c0c6-2c33-45c3-e091-90d3e6ac4647"
      },
      "execution_count": null,
      "outputs": [
        {
          "output_type": "stream",
          "name": "stdout",
          "text": [
            "{'name': 'c++', 'last_name': 'programming', 'module': 'yes', 'typed': 'Dynamically typed'}\n"
          ]
        }
      ]
    },
    {
      "cell_type": "code",
      "source": [
        "d1 = {\n",
        "    \"name\" : [\"python\",'c++','java'],\n",
        "    \"last_name\" : \"programming\",\n",
        "    \"age\":29,\n",
        "    \"module\" : True\n",
        "}\n",
        "print(d1)\n",
        "\n",
        "print(d1['name'][1])"
      ],
      "metadata": {
        "colab": {
          "base_uri": "https://localhost:8080/"
        },
        "id": "LWmQugWXc4Pu",
        "outputId": "4482b443-88c0-4f85-fec2-a362d1c10024"
      },
      "execution_count": null,
      "outputs": [
        {
          "output_type": "stream",
          "name": "stdout",
          "text": [
            "{'name': ['python', 'c++', 'java'], 'last_name': 'programming', 'age': 29, 'module': True}\n",
            "c++\n"
          ]
        }
      ]
    },
    {
      "cell_type": "code",
      "source": [
        "d1['name'][1] = 'c language'\n",
        "print(d1)"
      ],
      "metadata": {
        "colab": {
          "base_uri": "https://localhost:8080/"
        },
        "id": "amPWGx5Sc4NJ",
        "outputId": "ab78e8fe-8286-4846-8a31-42557c830856"
      },
      "execution_count": null,
      "outputs": [
        {
          "output_type": "stream",
          "name": "stdout",
          "text": [
            "{'name': ['python', 'c language', 'java'], 'last_name': 'programming', 'age': 29, 'module': True}\n"
          ]
        }
      ]
    },
    {
      "cell_type": "code",
      "source": [
        "d1['name'].append('r')\n",
        "print(d1)"
      ],
      "metadata": {
        "colab": {
          "base_uri": "https://localhost:8080/"
        },
        "id": "GZiRpOmmc4KK",
        "outputId": "4f1ba66b-1065-41b6-b01b-225c5c39a46f"
      },
      "execution_count": null,
      "outputs": [
        {
          "output_type": "stream",
          "name": "stdout",
          "text": [
            "{'name': ['python', 'c language', 'java', 'r'], 'last_name': 'programming', 'age': 29, 'module': True}\n"
          ]
        }
      ]
    },
    {
      "cell_type": "code",
      "source": [
        "d1['name'][3]"
      ],
      "metadata": {
        "colab": {
          "base_uri": "https://localhost:8080/",
          "height": 35
        },
        "id": "AA0FCBIRc4HZ",
        "outputId": "0672630e-3f83-4114-d766-757f856e9c3a"
      },
      "execution_count": null,
      "outputs": [
        {
          "output_type": "execute_result",
          "data": {
            "text/plain": [
              "'r'"
            ],
            "application/vnd.google.colaboratory.intrinsic+json": {
              "type": "string"
            }
          },
          "metadata": {},
          "execution_count": 50
        }
      ]
    },
    {
      "cell_type": "code",
      "source": [
        "#dlet java from the name?\n",
        "del d1['name'][2]\n",
        "d1"
      ],
      "metadata": {
        "colab": {
          "base_uri": "https://localhost:8080/"
        },
        "id": "z4wciLSRc4DA",
        "outputId": "ab5a1ef7-342c-4fc0-ee60-a2dce8d8607b"
      },
      "execution_count": null,
      "outputs": [
        {
          "output_type": "execute_result",
          "data": {
            "text/plain": [
              "{'name': ['python', 'c language', 'r'],\n",
              " 'last_name': 'programming',\n",
              " 'age': 29,\n",
              " 'module': True}"
            ]
          },
          "metadata": {},
          "execution_count": 54
        }
      ]
    },
    {
      "cell_type": "code",
      "source": [
        "d1.clear()\n",
        "d1"
      ],
      "metadata": {
        "colab": {
          "base_uri": "https://localhost:8080/"
        },
        "id": "N4RxPeqtc4BC",
        "outputId": "4825f801-f611-4b51-e160-3633927ba482"
      },
      "execution_count": null,
      "outputs": [
        {
          "output_type": "execute_result",
          "data": {
            "text/plain": [
              "{}"
            ]
          },
          "metadata": {},
          "execution_count": 56
        }
      ]
    },
    {
      "cell_type": "code",
      "source": [
        "d2 = {\n",
        "    \"name\" : [\"python\",'c++','java'],\n",
        "    \"last_name\" : \"programming\",\n",
        "    \"age\":29,\n",
        "    \"module\" : True\n",
        "}\n",
        "print(d2)"
      ],
      "metadata": {
        "colab": {
          "base_uri": "https://localhost:8080/"
        },
        "id": "TlEhU3Zic3-N",
        "outputId": "9f39572f-018b-46ee-bbd5-4d2adbbc998d"
      },
      "execution_count": null,
      "outputs": [
        {
          "output_type": "stream",
          "name": "stdout",
          "text": [
            "{'name': ['python', 'c++', 'java'], 'last_name': 'programming', 'age': 29, 'module': True}\n"
          ]
        }
      ]
    },
    {
      "cell_type": "code",
      "source": [
        "del d2\n",
        "print(d2)"
      ],
      "metadata": {
        "colab": {
          "base_uri": "https://localhost:8080/",
          "height": 158
        },
        "id": "qGbflr8Cc37k",
        "outputId": "e6c53d4e-46fd-49c2-d999-c3eecf60fef4"
      },
      "execution_count": null,
      "outputs": [
        {
          "output_type": "error",
          "ename": "NameError",
          "evalue": "name 'd2' is not defined",
          "traceback": [
            "\u001b[0;31m---------------------------------------------------------------------------\u001b[0m",
            "\u001b[0;31mNameError\u001b[0m                                 Traceback (most recent call last)",
            "\u001b[0;32m<ipython-input-58-af170a171d94>\u001b[0m in \u001b[0;36m<cell line: 2>\u001b[0;34m()\u001b[0m\n\u001b[1;32m      1\u001b[0m \u001b[0;32mdel\u001b[0m \u001b[0md2\u001b[0m\u001b[0;34m\u001b[0m\u001b[0;34m\u001b[0m\u001b[0m\n\u001b[0;32m----> 2\u001b[0;31m \u001b[0mprint\u001b[0m\u001b[0;34m(\u001b[0m\u001b[0md2\u001b[0m\u001b[0;34m)\u001b[0m\u001b[0;34m\u001b[0m\u001b[0;34m\u001b[0m\u001b[0m\n\u001b[0m",
            "\u001b[0;31mNameError\u001b[0m: name 'd2' is not defined"
          ]
        }
      ]
    },
    {
      "cell_type": "markdown",
      "source": [
        "#**Working with loops in the dictionary**"
      ],
      "metadata": {
        "id": "m6QvITJXnHf1"
      }
    },
    {
      "cell_type": "code",
      "source": [
        "d3 = { \"name\" : [\"python\",'c','java'],\n",
        "       \"last_name\" : \"programming\",\n",
        "       \"age\":29,\n",
        "       \"module\" : True}\n",
        "print(d3)\n",
        "\n"
      ],
      "metadata": {
        "colab": {
          "base_uri": "https://localhost:8080/"
        },
        "id": "ZOko4OHyc34K",
        "outputId": "2422de44-c0af-4895-93d9-a406624a540d"
      },
      "execution_count": null,
      "outputs": [
        {
          "output_type": "stream",
          "name": "stdout",
          "text": [
            "{'name': ['python', 'c', 'java'], 'last_name': 'programming', 'age': 29, 'module': True}\n"
          ]
        }
      ]
    },
    {
      "cell_type": "code",
      "source": [
        "#Using for loop in dict\n",
        "\n",
        "for i in d3.keys():\n",
        "  print(i)"
      ],
      "metadata": {
        "colab": {
          "base_uri": "https://localhost:8080/"
        },
        "id": "FZvAmbSfc32U",
        "outputId": "4ea31627-c15e-4e86-aab7-18b88d190071"
      },
      "execution_count": null,
      "outputs": [
        {
          "output_type": "stream",
          "name": "stdout",
          "text": [
            "name\n",
            "last_name\n",
            "age\n",
            "module\n"
          ]
        }
      ]
    },
    {
      "cell_type": "code",
      "source": [
        "for i in d3.values():\n",
        "  print(i)"
      ],
      "metadata": {
        "colab": {
          "base_uri": "https://localhost:8080/"
        },
        "id": "QOEb_bSWc3yh",
        "outputId": "cc325699-85c1-4599-c004-6960c4375595"
      },
      "execution_count": null,
      "outputs": [
        {
          "output_type": "stream",
          "name": "stdout",
          "text": [
            "['python', 'c', 'java']\n",
            "programming\n",
            "29\n",
            "True\n"
          ]
        }
      ]
    },
    {
      "cell_type": "code",
      "source": [
        "for (i,j) in d3.items():\n",
        "  print(i,'-',j)"
      ],
      "metadata": {
        "colab": {
          "base_uri": "https://localhost:8080/"
        },
        "id": "N124400Cc3wr",
        "outputId": "9410b6e3-9248-42f7-9265-35c137317863"
      },
      "execution_count": null,
      "outputs": [
        {
          "output_type": "stream",
          "name": "stdout",
          "text": [
            "name - ['python', 'c', 'java']\n",
            "last_name - programming\n",
            "age - 29\n",
            "module - True\n"
          ]
        }
      ]
    },
    {
      "cell_type": "code",
      "source": [
        "for x in d3.keys():\n",
        "  print(f'{x} : {d3[x]}')"
      ],
      "metadata": {
        "id": "BKCHlqxTp3c-",
        "colab": {
          "base_uri": "https://localhost:8080/"
        },
        "outputId": "17c752e0-0480-40f2-d418-b58608563d01"
      },
      "execution_count": null,
      "outputs": [
        {
          "output_type": "stream",
          "name": "stdout",
          "text": [
            "name : ['python', 'c', 'java']\n",
            "last_name : programming\n",
            "age : 29\n",
            "module : True\n"
          ]
        }
      ]
    },
    {
      "cell_type": "markdown",
      "source": [
        "#Escape character"
      ],
      "metadata": {
        "id": "Nk-kgZaTsKZ2"
      }
    },
    {
      "cell_type": "code",
      "source": [
        "#Escape characters are used to print the illegal characters:-\n",
        "\n",
        "print(\"dwyane \\'The rock\\' johnson\")"
      ],
      "metadata": {
        "colab": {
          "base_uri": "https://localhost:8080/"
        },
        "id": "LqCJVWq7svSh",
        "outputId": "e38a40e3-cbd5-4821-93be-5e7071a5950a"
      },
      "execution_count": null,
      "outputs": [
        {
          "output_type": "stream",
          "name": "stdout",
          "text": [
            "dwyane 'The rock' johnson\n"
          ]
        }
      ]
    },
    {
      "cell_type": "code",
      "source": [
        "print(\"'hello world'\")"
      ],
      "metadata": {
        "colab": {
          "base_uri": "https://localhost:8080/"
        },
        "id": "JMAFp8DUsNPR",
        "outputId": "57450761-70be-4985-c57e-1c5b4cddf8f8"
      },
      "execution_count": null,
      "outputs": [
        {
          "output_type": "stream",
          "name": "stdout",
          "text": [
            "'hello world'\n"
          ]
        }
      ]
    },
    {
      "cell_type": "markdown",
      "source": [
        "#Difference between collections\n",
        "\n"
      ],
      "metadata": {
        "id": "Kxl5cyV1rDVO"
      }
    },
    {
      "cell_type": "markdown",
      "source": [
        "--> Dict{} --> Unordered, key:value pairs, Won't allow duplicates, where value are changable and keys are unchangable.\n",
        "\n",
        "--> List[] --> unordered, allows the duplicates, mutable.\n",
        "\n",
        "--> Tuple() --> Ordered, allows the duplicates, immutable.\n",
        "\n",
        "--> Sets {} --> unordered, it won't allow duplicates, immutable."
      ],
      "metadata": {
        "id": "unA6HxZQqKWh"
      }
    },
    {
      "cell_type": "markdown",
      "source": [
        "#**(24-06-2024)(Functions)**"
      ],
      "metadata": {
        "id": "MAkrp7wV57Ss"
      }
    },
    {
      "cell_type": "code",
      "source": [
        "print(\"hello\")"
      ],
      "metadata": {
        "id": "Is2v8AcupYXT",
        "colab": {
          "base_uri": "https://localhost:8080/"
        },
        "outputId": "c860ef5d-6c6c-4f97-f186-313d54813844"
      },
      "execution_count": 1,
      "outputs": [
        {
          "output_type": "stream",
          "name": "stdout",
          "text": [
            "hello\n"
          ]
        }
      ]
    },
    {
      "cell_type": "code",
      "source": [
        "x = input()\n",
        "print(x)\n",
        "print(type(x))"
      ],
      "metadata": {
        "id": "lSX34RvWpYUG",
        "colab": {
          "base_uri": "https://localhost:8080/"
        },
        "outputId": "2e8880bb-e9ca-47a1-c345-8e4cc60d21e2"
      },
      "execution_count": 3,
      "outputs": [
        {
          "output_type": "stream",
          "name": "stdout",
          "text": [
            "6\n",
            "6\n",
            "<class 'str'>\n"
          ]
        }
      ]
    },
    {
      "cell_type": "code",
      "source": [
        "#Function :- Its a block of code which can runs when you call it, where ever you want.\n",
        "#How can you create a function?\n",
        "#A) \"def\" is the key word.\n",
        "#Lets create a function.\n",
        "#2 things to be rembered (create a function,How to call the function)\n",
        "def f1():\n",
        "  print(\"hello world\")\n",
        "  print(\"this is my first function\")\n",
        "  print(\"===========================\")"
      ],
      "metadata": {
        "id": "N1hH35MlpYQr"
      },
      "execution_count": 8,
      "outputs": []
    },
    {
      "cell_type": "code",
      "source": [
        "#How to call the function?\n",
        "f1()"
      ],
      "metadata": {
        "id": "4m6SaRVVpYNz",
        "colab": {
          "base_uri": "https://localhost:8080/"
        },
        "outputId": "da56dfd3-e1b8-4e87-f975-e5750d905590"
      },
      "execution_count": 9,
      "outputs": [
        {
          "output_type": "stream",
          "name": "stdout",
          "text": [
            "hello world\n",
            "this is my first function\n",
            "===========================\n"
          ]
        }
      ]
    },
    {
      "cell_type": "code",
      "source": [
        "#A function can seen in parameters and the arguments\n",
        "\n",
        "#Method-1\n",
        "\n",
        "def f2(name):       #name = parameter\n",
        "  print(f\"hello {name}\")\n",
        "#Call this function\n",
        "f2(\"python\")        #python = arguments"
      ],
      "metadata": {
        "id": "daBGamF1pYK5",
        "colab": {
          "base_uri": "https://localhost:8080/"
        },
        "outputId": "7576222a-c63e-42a3-f3ad-8fec08fd2886"
      },
      "execution_count": 12,
      "outputs": [
        {
          "output_type": "stream",
          "name": "stdout",
          "text": [
            "hello python\n"
          ]
        }
      ]
    },
    {
      "cell_type": "code",
      "source": [
        "#what is parameter(variable)?\n",
        "#Defining a variable when you create a function is known as parameter.\n",
        "\n",
        "#what is argument?\n",
        "#The value you gave to the variable/parameter when you call the function.\n",
        "\n",
        "#why we are using arguments and parameters?\n",
        "#both are used for passing different information\n",
        "\n",
        "#How many arguments do can call?\n",
        "#we can call many"
      ],
      "metadata": {
        "id": "Z0OQC0ampYIB"
      },
      "execution_count": 14,
      "outputs": []
    },
    {
      "cell_type": "code",
      "source": [
        "def f3(name,age):\n",
        "  print(f\"name - {name} and age - {age}\")\n",
        "f3('ansari','22')"
      ],
      "metadata": {
        "id": "CsNlYaoNpYCH",
        "colab": {
          "base_uri": "https://localhost:8080/"
        },
        "outputId": "f7dc6c8d-3480-46ea-89d4-a11e69f606e9"
      },
      "execution_count": 21,
      "outputs": [
        {
          "output_type": "stream",
          "name": "stdout",
          "text": [
            "name - ansari and age - 22\n"
          ]
        }
      ]
    },
    {
      "cell_type": "code",
      "source": [
        "#use the default parameter to not raise the error when you are calling the function without argument\n",
        "\n",
        "#Method-2\n",
        "\n",
        "def f3(name = 'ansari'):  #default argument is beside the parameter\n",
        "  print(f\"name - {name}\")\n",
        "f3()\n"
      ],
      "metadata": {
        "id": "mhwlEVuMpX_O",
        "colab": {
          "base_uri": "https://localhost:8080/"
        },
        "outputId": "fc578bec-1b13-40b5-d201-41cfc8b64c75"
      },
      "execution_count": 23,
      "outputs": [
        {
          "output_type": "stream",
          "name": "stdout",
          "text": [
            "name - ansari\n"
          ]
        }
      ]
    },
    {
      "cell_type": "code",
      "source": [
        "#what do I do when I dont know how many arguments do I need to pass?\n",
        "\n",
        "def f2(name):\n",
        "  print(f\"name - {name}\")\n",
        "f2(\"python\",\"java\",\"c++\",\"c\")\n",
        "\n"
      ],
      "metadata": {
        "id": "hGUzkP6JpX8b",
        "colab": {
          "base_uri": "https://localhost:8080/",
          "height": 198
        },
        "outputId": "1fc34543-7297-4e1a-9a9d-ad18d52ee118"
      },
      "execution_count": 28,
      "outputs": [
        {
          "output_type": "error",
          "ename": "TypeError",
          "evalue": "f2() takes 1 positional argument but 4 were given",
          "traceback": [
            "\u001b[0;31m---------------------------------------------------------------------------\u001b[0m",
            "\u001b[0;31mTypeError\u001b[0m                                 Traceback (most recent call last)",
            "\u001b[0;32m<ipython-input-28-73643e6065cf>\u001b[0m in \u001b[0;36m<cell line: 5>\u001b[0;34m()\u001b[0m\n\u001b[1;32m      3\u001b[0m \u001b[0;32mdef\u001b[0m \u001b[0mf2\u001b[0m\u001b[0;34m(\u001b[0m\u001b[0mname\u001b[0m\u001b[0;34m)\u001b[0m\u001b[0;34m:\u001b[0m\u001b[0;34m\u001b[0m\u001b[0;34m\u001b[0m\u001b[0m\n\u001b[1;32m      4\u001b[0m   \u001b[0mprint\u001b[0m\u001b[0;34m(\u001b[0m\u001b[0;34mf\"name - {name}\"\u001b[0m\u001b[0;34m)\u001b[0m\u001b[0;34m\u001b[0m\u001b[0;34m\u001b[0m\u001b[0m\n\u001b[0;32m----> 5\u001b[0;31m \u001b[0mf2\u001b[0m\u001b[0;34m(\u001b[0m\u001b[0;34m\"python\"\u001b[0m\u001b[0;34m,\u001b[0m\u001b[0;34m\"java\"\u001b[0m\u001b[0;34m,\u001b[0m\u001b[0;34m\"c++\"\u001b[0m\u001b[0;34m,\u001b[0m\u001b[0;34m\"c\"\u001b[0m\u001b[0;34m)\u001b[0m\u001b[0;34m\u001b[0m\u001b[0;34m\u001b[0m\u001b[0m\n\u001b[0m\u001b[1;32m      6\u001b[0m \u001b[0;34m\u001b[0m\u001b[0m\n",
            "\u001b[0;31mTypeError\u001b[0m: f2() takes 1 positional argument but 4 were given"
          ]
        }
      ]
    },
    {
      "cell_type": "code",
      "source": [
        "def f2(*name): #default star(*) is used when we dont know how many arguments to be used.\n",
        " for i in name:\n",
        "   print(f\"name - {i}\")\n",
        "f2(\"python\",\"java\",\"c++\",\"c\")\n"
      ],
      "metadata": {
        "id": "r3_qQY0QpX5U",
        "colab": {
          "base_uri": "https://localhost:8080/"
        },
        "outputId": "1a88e1a7-6b02-4938-f099-afbe9d7528e1"
      },
      "execution_count": 32,
      "outputs": [
        {
          "output_type": "stream",
          "name": "stdout",
          "text": [
            "name - python\n",
            "name - java\n",
            "name - c++\n",
            "name - c\n"
          ]
        }
      ]
    },
    {
      "cell_type": "code",
      "source": [
        "#what do I do when I dont know how many parameters do I need to pass?\n",
        "def f4(**name):\n",
        "  for x in name:\n",
        "    print(f\"hello {x}\")\n",
        "  print(\"============================\")\n",
        "f4(Name = 'python',last_name = 'programming')"
      ],
      "metadata": {
        "id": "cXuhBsXwpX2Z",
        "colab": {
          "base_uri": "https://localhost:8080/"
        },
        "outputId": "975524b6-3532-4b3f-a89d-d60740445de1"
      },
      "execution_count": 36,
      "outputs": [
        {
          "output_type": "stream",
          "name": "stdout",
          "text": [
            "hello Name\n",
            "hello last_name\n",
            "============================\n"
          ]
        }
      ]
    },
    {
      "cell_type": "code",
      "source": [
        "def f4(**name):\n",
        "  for x,y in name.items():\n",
        "    print(f\"hello {y}!\")\n",
        "  print(\"============================\")\n",
        "f4(Name = 'python',last_name = 'programming')"
      ],
      "metadata": {
        "id": "X6SHvlfHpXzt",
        "colab": {
          "base_uri": "https://localhost:8080/"
        },
        "outputId": "5ec37349-2087-4a3d-d885-a8242ad4ba6b"
      },
      "execution_count": 41,
      "outputs": [
        {
          "output_type": "stream",
          "name": "stdout",
          "text": [
            "hello python!\n",
            "hello programming!\n",
            "============================\n"
          ]
        }
      ]
    },
    {
      "cell_type": "code",
      "source": [
        "print(10,20,30,40,50,60, sep = \"\\n\")"
      ],
      "metadata": {
        "id": "9zdML6ROpXwZ",
        "colab": {
          "base_uri": "https://localhost:8080/"
        },
        "outputId": "0a556791-480f-4d49-a454-822003c978ed"
      },
      "execution_count": 44,
      "outputs": [
        {
          "output_type": "stream",
          "name": "stdout",
          "text": [
            "10\n",
            "20\n",
            "30\n",
            "40\n",
            "50\n",
            "60\n"
          ]
        }
      ]
    },
    {
      "cell_type": "code",
      "source": [
        "def f5(name,age,last_name):\n",
        "  print(f'hello {name} my age {age},last_name {last_name}')\n",
        "f5(\"python\",29,\"programming\")"
      ],
      "metadata": {
        "id": "FEVJ5TrCpXst",
        "colab": {
          "base_uri": "https://localhost:8080/"
        },
        "outputId": "2d5d98c3-4e29-4bbe-d4ff-545b0e3026c6"
      },
      "execution_count": 46,
      "outputs": [
        {
          "output_type": "stream",
          "name": "stdout",
          "text": [
            "hello python my age 29,last_name programming\n"
          ]
        }
      ]
    },
    {
      "cell_type": "code",
      "source": [
        "def f1(**details):\n",
        "  print(details)\n",
        "\n",
        "f1(name = 'python', last_name = \"programming\",age = 29)"
      ],
      "metadata": {
        "id": "hzJ63XNUpXqm",
        "colab": {
          "base_uri": "https://localhost:8080/"
        },
        "outputId": "379496aa-0cb7-44dd-8f92-7f7bb83f4375"
      },
      "execution_count": 50,
      "outputs": [
        {
          "output_type": "stream",
          "name": "stdout",
          "text": [
            "{'name': 'python', 'last_name': 'programming', 'age': 29}\n"
          ]
        }
      ]
    },
    {
      "cell_type": "code",
      "source": [
        "def f1(**details):\n",
        "  for keys,values in details.items():\n",
        "    print(f1(f'{keys} : {values}'))\n",
        "f1(name = 'python', last_name = \"programming\",age = 29)\n",
        "\n"
      ],
      "metadata": {
        "id": "U3GntYrHpXnd",
        "colab": {
          "base_uri": "https://localhost:8080/",
          "height": 323
        },
        "outputId": "d8020b08-67da-4bd4-bbf0-9baefbebf76f"
      },
      "execution_count": 52,
      "outputs": [
        {
          "output_type": "error",
          "ename": "TypeError",
          "evalue": "f1() takes 0 positional arguments but 1 was given",
          "traceback": [
            "\u001b[0;31m---------------------------------------------------------------------------\u001b[0m",
            "\u001b[0;31mTypeError\u001b[0m                                 Traceback (most recent call last)",
            "\u001b[0;32m<ipython-input-52-df4229dd40f0>\u001b[0m in \u001b[0;36m<cell line: 4>\u001b[0;34m()\u001b[0m\n\u001b[1;32m      2\u001b[0m   \u001b[0;32mfor\u001b[0m \u001b[0mkeys\u001b[0m\u001b[0;34m,\u001b[0m\u001b[0mvalues\u001b[0m \u001b[0;32min\u001b[0m \u001b[0mdetails\u001b[0m\u001b[0;34m.\u001b[0m\u001b[0mitems\u001b[0m\u001b[0;34m(\u001b[0m\u001b[0;34m)\u001b[0m\u001b[0;34m:\u001b[0m\u001b[0;34m\u001b[0m\u001b[0;34m\u001b[0m\u001b[0m\n\u001b[1;32m      3\u001b[0m     \u001b[0mprint\u001b[0m\u001b[0;34m(\u001b[0m\u001b[0mf1\u001b[0m\u001b[0;34m(\u001b[0m\u001b[0;34mf'{keys} : {values}'\u001b[0m\u001b[0;34m)\u001b[0m\u001b[0;34m)\u001b[0m\u001b[0;34m\u001b[0m\u001b[0;34m\u001b[0m\u001b[0m\n\u001b[0;32m----> 4\u001b[0;31m \u001b[0mf1\u001b[0m\u001b[0;34m(\u001b[0m\u001b[0mname\u001b[0m \u001b[0;34m=\u001b[0m \u001b[0;34m'python'\u001b[0m\u001b[0;34m,\u001b[0m \u001b[0mlast_name\u001b[0m \u001b[0;34m=\u001b[0m \u001b[0;34m\"programming\"\u001b[0m\u001b[0;34m,\u001b[0m\u001b[0mage\u001b[0m \u001b[0;34m=\u001b[0m \u001b[0;36m29\u001b[0m\u001b[0;34m)\u001b[0m\u001b[0;34m\u001b[0m\u001b[0;34m\u001b[0m\u001b[0m\n\u001b[0m\u001b[1;32m      5\u001b[0m \u001b[0;34m\u001b[0m\u001b[0m\n",
            "\u001b[0;32m<ipython-input-52-df4229dd40f0>\u001b[0m in \u001b[0;36mf1\u001b[0;34m(**details)\u001b[0m\n\u001b[1;32m      1\u001b[0m \u001b[0;32mdef\u001b[0m \u001b[0mf1\u001b[0m\u001b[0;34m(\u001b[0m\u001b[0;34m**\u001b[0m\u001b[0mdetails\u001b[0m\u001b[0;34m)\u001b[0m\u001b[0;34m:\u001b[0m\u001b[0;34m\u001b[0m\u001b[0;34m\u001b[0m\u001b[0m\n\u001b[1;32m      2\u001b[0m   \u001b[0;32mfor\u001b[0m \u001b[0mkeys\u001b[0m\u001b[0;34m,\u001b[0m\u001b[0mvalues\u001b[0m \u001b[0;32min\u001b[0m \u001b[0mdetails\u001b[0m\u001b[0;34m.\u001b[0m\u001b[0mitems\u001b[0m\u001b[0;34m(\u001b[0m\u001b[0;34m)\u001b[0m\u001b[0;34m:\u001b[0m\u001b[0;34m\u001b[0m\u001b[0;34m\u001b[0m\u001b[0m\n\u001b[0;32m----> 3\u001b[0;31m     \u001b[0mprint\u001b[0m\u001b[0;34m(\u001b[0m\u001b[0mf1\u001b[0m\u001b[0;34m(\u001b[0m\u001b[0;34mf'{keys} : {values}'\u001b[0m\u001b[0;34m)\u001b[0m\u001b[0;34m)\u001b[0m\u001b[0;34m\u001b[0m\u001b[0;34m\u001b[0m\u001b[0m\n\u001b[0m\u001b[1;32m      4\u001b[0m \u001b[0mf1\u001b[0m\u001b[0;34m(\u001b[0m\u001b[0mname\u001b[0m \u001b[0;34m=\u001b[0m \u001b[0;34m'python'\u001b[0m\u001b[0;34m,\u001b[0m \u001b[0mlast_name\u001b[0m \u001b[0;34m=\u001b[0m \u001b[0;34m\"programming\"\u001b[0m\u001b[0;34m,\u001b[0m\u001b[0mage\u001b[0m \u001b[0;34m=\u001b[0m \u001b[0;36m29\u001b[0m\u001b[0;34m)\u001b[0m\u001b[0;34m\u001b[0m\u001b[0;34m\u001b[0m\u001b[0m\n\u001b[1;32m      5\u001b[0m \u001b[0;34m\u001b[0m\u001b[0m\n",
            "\u001b[0;31mTypeError\u001b[0m: f1() takes 0 positional arguments but 1 was given"
          ]
        }
      ]
    },
    {
      "cell_type": "code",
      "source": [
        "#Technical name for * and **\n",
        "\"\"\"*--> arbitrary arguments --> tuples(default datatype)\n",
        "   **--> keyword arguments --> dict(default datatype)\"\"\""
      ],
      "metadata": {
        "id": "_x_LTNqtpXlb",
        "colab": {
          "base_uri": "https://localhost:8080/",
          "height": 36
        },
        "outputId": "dc479ff4-2b5e-4696-fe4c-a25c7ac5c17a"
      },
      "execution_count": 56,
      "outputs": [
        {
          "output_type": "execute_result",
          "data": {
            "text/plain": [
              "'*--> arbitrary arguments --> tuples(default datatype)\\n   **--> keyword arguments --> dict(default datatype)'"
            ],
            "application/vnd.google.colaboratory.intrinsic+json": {
              "type": "string"
            }
          },
          "metadata": {},
          "execution_count": 56
        }
      ]
    },
    {
      "cell_type": "code",
      "source": [
        "#Return() keyword\n",
        "def f1(x):\n",
        "  return x\n",
        "print(f1(10))"
      ],
      "metadata": {
        "id": "kytahjlcpXis",
        "colab": {
          "base_uri": "https://localhost:8080/"
        },
        "outputId": "ac9a1534-900b-4664-c324-a4d6a0289735"
      },
      "execution_count": 58,
      "outputs": [
        {
          "output_type": "stream",
          "name": "stdout",
          "text": [
            "10\n"
          ]
        }
      ]
    },
    {
      "cell_type": "code",
      "source": [
        "#Create a sum function:\n",
        "\n",
        "def sum(a,b):\n",
        "  return (a + b)\n",
        "print(sum(2,4))"
      ],
      "metadata": {
        "id": "ud6KiVInpXf2",
        "colab": {
          "base_uri": "https://localhost:8080/"
        },
        "outputId": "8283a5de-ef97-4301-8e9a-caffefd26af7"
      },
      "execution_count": 59,
      "outputs": [
        {
          "output_type": "stream",
          "name": "stdout",
          "text": [
            "6\n"
          ]
        }
      ]
    },
    {
      "cell_type": "code",
      "source": [],
      "metadata": {
        "id": "0Iu40njepXcL"
      },
      "execution_count": null,
      "outputs": []
    },
    {
      "cell_type": "code",
      "source": [],
      "metadata": {
        "id": "MVmYeUzvpXaD"
      },
      "execution_count": null,
      "outputs": []
    },
    {
      "cell_type": "code",
      "source": [],
      "metadata": {
        "id": "xpCc53skpXVS"
      },
      "execution_count": null,
      "outputs": []
    },
    {
      "cell_type": "code",
      "source": [],
      "metadata": {
        "id": "onWlCCVJpXTF"
      },
      "execution_count": null,
      "outputs": []
    }
  ]
}